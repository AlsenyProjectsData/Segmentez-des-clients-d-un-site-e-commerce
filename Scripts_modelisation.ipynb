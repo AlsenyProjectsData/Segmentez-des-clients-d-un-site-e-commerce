{
 "cells": [
  {
   "cell_type": "markdown",
   "id": "1d1c2260",
   "metadata": {},
   "source": [
    "# Segmentez des clients d'un site e-commerce"
   ]
  },
  {
   "cell_type": "markdown",
   "id": "408849db",
   "metadata": {},
   "source": [
    "## Librairie nécessaire pour le travail"
   ]
  },
  {
   "cell_type": "code",
   "execution_count": 96,
   "id": "2c917daa",
   "metadata": {},
   "outputs": [],
   "source": [
    "import pandas as pd\n",
    "import numpy as np\n",
    "import seaborn as sns\n",
    "import matplotlib.cm as cm\n",
    "from sklearn import metrics\n",
    "import matplotlib.pyplot as plt\n",
    "from sklearn import preprocessing\n",
    "from sklearn.manifold import TSNE\n",
    "from sklearn.cluster import DBSCAN, KMeans\n",
    "from sklearn.metrics import pairwise_distances\n",
    "from sklearn.preprocessing import OneHotEncoder\n",
    "from sklearn.cluster import AgglomerativeClustering\n",
    "from scipy.cluster.hierarchy import ward, fcluster\n",
    "import plotly.graph_objects as go\n",
    "from scipy.cluster.hierarchy import dendrogram\n",
    "from scipy.cluster.hierarchy import dendrogram, linkage\n",
    "from sklearn.preprocessing import StandardScaler, MinMaxScaler, MaxAbsScaler\n",
    "from sklearn.compose import ColumnTransformer, make_column_transformer\n",
    "from sklearn.pipeline import Pipeline, make_pipeline\n",
    "from yellowbrick.cluster import KElbowVisualizer, SilhouetteVisualizer, InterclusterDistance\n",
    "from sklearn.cluster import AgglomerativeClustering\n",
    "from sklearn.metrics import silhouette_score\n",
    "import scipy.cluster.hierarchy as shc\n",
    "from sklearn.metrics import adjusted_rand_score\n",
    "import plotly.express as px\n",
    "import plotly.graph_objs as go\n",
    "import plotly.offline as py"
   ]
  },
  {
   "cell_type": "markdown",
   "id": "768fbc90",
   "metadata": {},
   "source": [
    "## Importtion des données"
   ]
  },
  {
   "cell_type": "code",
   "execution_count": 3,
   "id": "07c6164c",
   "metadata": {},
   "outputs": [],
   "source": [
    "pd.set_option('display.max_rows', None)\n",
    "pd.set_option('display.max_columns',None)"
   ]
  },
  {
   "cell_type": "code",
   "execution_count": 4,
   "id": "635cf747",
   "metadata": {},
   "outputs": [
    {
     "name": "stdout",
     "output_type": "stream",
     "text": [
      "<class 'pandas.core.frame.DataFrame'>\n",
      "RangeIndex: 114859 entries, 0 to 114858\n",
      "Data columns (total 28 columns):\n",
      " #   Column                         Non-Null Count   Dtype  \n",
      "---  ------                         --------------   -----  \n",
      " 0   review_id                      114859 non-null  object \n",
      " 1   order_id                       114859 non-null  object \n",
      " 2   review_score                   114859 non-null  int64  \n",
      " 3   review_comment_title           13584 non-null   object \n",
      " 4   review_comment_message         48092 non-null   object \n",
      " 5   review_creation_date           114859 non-null  object \n",
      " 6   review_answer_timestamp        114859 non-null  object \n",
      " 7   order_item_id                  114859 non-null  float64\n",
      " 8   product_id                     114859 non-null  object \n",
      " 9   seller_id                      114859 non-null  object \n",
      " 10  price                          114859 non-null  float64\n",
      " 11  freight_value                  114859 non-null  float64\n",
      " 12  customer_id                    114859 non-null  object \n",
      " 13  order_status                   114859 non-null  object \n",
      " 14  order_purchase_timestamp       114859 non-null  object \n",
      " 15  order_delivered_customer_date  114851 non-null  object \n",
      " 16  customer_unique_id             114859 non-null  object \n",
      " 17  customer_zip_code_prefix       114859 non-null  int64  \n",
      " 18  customer_city                  114859 non-null  object \n",
      " 19  customer_state                 114859 non-null  object \n",
      " 20  product_category_name          113233 non-null  object \n",
      " 21  product_name_lenght            113233 non-null  float64\n",
      " 22  product_description_lenght     113233 non-null  float64\n",
      " 23  product_photos_qty             113233 non-null  float64\n",
      " 24  payment_sequential             114859 non-null  int64  \n",
      " 25  payment_type                   114859 non-null  object \n",
      " 26  payment_installments           114859 non-null  int64  \n",
      " 27  payment_value                  114859 non-null  float64\n",
      "dtypes: float64(7), int64(4), object(17)\n",
      "memory usage: 24.5+ MB\n"
     ]
    }
   ],
   "source": [
    "data_olist = pd.read_csv(\"/home/sacko/Documents/Customer/Donnees/data_modelisation.csv\")\n",
    "data_olist.drop([\"Unnamed: 0\"], axis=1, inplace = True)\n",
    "data_olist.info()"
   ]
  },
  {
   "cell_type": "markdown",
   "id": "608b70d3",
   "metadata": {},
   "source": [
    "## Suppression des variables unitiles"
   ]
  },
  {
   "cell_type": "code",
   "execution_count": 5,
   "id": "af33b447",
   "metadata": {},
   "outputs": [],
   "source": [
    "data_olist.drop([\"review_id\", \"review_comment_title\", \"review_creation_date\", \"review_answer_timestamp\", \n",
    "                 \"order_item_id\", \"product_id\", \"seller_id\", \"freight_value\",\n",
    "                \"order_delivered_customer_date\", \"customer_zip_code_prefix\", \"customer_state\", \"product_category_name\",\n",
    "                \"product_name_lenght\", \"product_description_lenght\", \"payment_sequential\", \"payment_type\"], axis = 1, inplace = True)"
   ]
  },
  {
   "cell_type": "markdown",
   "id": "c03e02b2",
   "metadata": {},
   "source": [
    "## Information sur la structure des données"
   ]
  },
  {
   "cell_type": "code",
   "execution_count": 6,
   "id": "4f5e746d",
   "metadata": {},
   "outputs": [
    {
     "name": "stdout",
     "output_type": "stream",
     "text": [
      "<class 'pandas.core.frame.DataFrame'>\n",
      "RangeIndex: 114859 entries, 0 to 114858\n",
      "Data columns (total 12 columns):\n",
      " #   Column                    Non-Null Count   Dtype  \n",
      "---  ------                    --------------   -----  \n",
      " 0   order_id                  114859 non-null  object \n",
      " 1   review_score              114859 non-null  int64  \n",
      " 2   review_comment_message    48092 non-null   object \n",
      " 3   price                     114859 non-null  float64\n",
      " 4   customer_id               114859 non-null  object \n",
      " 5   order_status              114859 non-null  object \n",
      " 6   order_purchase_timestamp  114859 non-null  object \n",
      " 7   customer_unique_id        114859 non-null  object \n",
      " 8   customer_city             114859 non-null  object \n",
      " 9   product_photos_qty        113233 non-null  float64\n",
      " 10  payment_installments      114859 non-null  int64  \n",
      " 11  payment_value             114859 non-null  float64\n",
      "dtypes: float64(3), int64(2), object(7)\n",
      "memory usage: 10.5+ MB\n",
      "\n",
      "\n",
      "Ona dans notre bse de données 114859 observation et 12 descripteurs\n"
     ]
    }
   ],
   "source": [
    "data_olist.info()\n",
    "print(\"\\n\")\n",
    "print(\"Ona dans notre bse de données 114859 observation et 12 descripteurs\")"
   ]
  },
  {
   "cell_type": "markdown",
   "id": "3a52f292",
   "metadata": {},
   "source": [
    "## Suppression des valeurs manquantes"
   ]
  },
  {
   "cell_type": "code",
   "execution_count": 7,
   "id": "63d12bd5",
   "metadata": {},
   "outputs": [],
   "source": [
    "def imputation(data_olist):\n",
    "    return data_olist.dropna(axis=0)"
   ]
  },
  {
   "cell_type": "code",
   "execution_count": 8,
   "id": "afc854e0",
   "metadata": {},
   "outputs": [],
   "source": [
    "df_clean = imputation(data_olist)"
   ]
  },
  {
   "cell_type": "code",
   "execution_count": 9,
   "id": "6e6d394e",
   "metadata": {},
   "outputs": [
    {
     "data": {
      "text/plain": [
       "(47375, 12)"
      ]
     },
     "execution_count": 9,
     "metadata": {},
     "output_type": "execute_result"
    }
   ],
   "source": [
    "df_clean.shape"
   ]
  },
  {
   "cell_type": "markdown",
   "id": "f75e5db3",
   "metadata": {},
   "source": [
    "## Statistiques descriptives"
   ]
  },
  {
   "cell_type": "code",
   "execution_count": 10,
   "id": "c21ab5a4",
   "metadata": {},
   "outputs": [
    {
     "data": {
      "text/html": [
       "<div>\n",
       "<style scoped>\n",
       "    .dataframe tbody tr th:only-of-type {\n",
       "        vertical-align: middle;\n",
       "    }\n",
       "\n",
       "    .dataframe tbody tr th {\n",
       "        vertical-align: top;\n",
       "    }\n",
       "\n",
       "    .dataframe thead th {\n",
       "        text-align: right;\n",
       "    }\n",
       "</style>\n",
       "<table border=\"1\" class=\"dataframe\">\n",
       "  <thead>\n",
       "    <tr style=\"text-align: right;\">\n",
       "      <th></th>\n",
       "      <th>count</th>\n",
       "      <th>mean</th>\n",
       "      <th>std</th>\n",
       "      <th>min</th>\n",
       "      <th>25%</th>\n",
       "      <th>50%</th>\n",
       "      <th>75%</th>\n",
       "      <th>max</th>\n",
       "    </tr>\n",
       "  </thead>\n",
       "  <tbody>\n",
       "    <tr>\n",
       "      <th>review_score</th>\n",
       "      <td>47375.0</td>\n",
       "      <td>3.643166</td>\n",
       "      <td>1.614782</td>\n",
       "      <td>1.00</td>\n",
       "      <td>2.000</td>\n",
       "      <td>4.00</td>\n",
       "      <td>5.00</td>\n",
       "      <td>5.00</td>\n",
       "    </tr>\n",
       "    <tr>\n",
       "      <th>price</th>\n",
       "      <td>47375.0</td>\n",
       "      <td>124.153165</td>\n",
       "      <td>190.926729</td>\n",
       "      <td>0.85</td>\n",
       "      <td>39.990</td>\n",
       "      <td>75.90</td>\n",
       "      <td>136.90</td>\n",
       "      <td>6735.00</td>\n",
       "    </tr>\n",
       "    <tr>\n",
       "      <th>product_photos_qty</th>\n",
       "      <td>47375.0</td>\n",
       "      <td>2.198734</td>\n",
       "      <td>1.712699</td>\n",
       "      <td>1.00</td>\n",
       "      <td>1.000</td>\n",
       "      <td>1.00</td>\n",
       "      <td>3.00</td>\n",
       "      <td>19.00</td>\n",
       "    </tr>\n",
       "    <tr>\n",
       "      <th>payment_installments</th>\n",
       "      <td>47375.0</td>\n",
       "      <td>3.112317</td>\n",
       "      <td>2.901790</td>\n",
       "      <td>1.00</td>\n",
       "      <td>1.000</td>\n",
       "      <td>2.00</td>\n",
       "      <td>4.00</td>\n",
       "      <td>24.00</td>\n",
       "    </tr>\n",
       "    <tr>\n",
       "      <th>payment_value</th>\n",
       "      <td>47375.0</td>\n",
       "      <td>186.897881</td>\n",
       "      <td>309.474767</td>\n",
       "      <td>0.00</td>\n",
       "      <td>64.915</td>\n",
       "      <td>116.45</td>\n",
       "      <td>203.33</td>\n",
       "      <td>13664.08</td>\n",
       "    </tr>\n",
       "  </tbody>\n",
       "</table>\n",
       "</div>"
      ],
      "text/plain": [
       "                        count        mean         std   min     25%     50%  \\\n",
       "review_score          47375.0    3.643166    1.614782  1.00   2.000    4.00   \n",
       "price                 47375.0  124.153165  190.926729  0.85  39.990   75.90   \n",
       "product_photos_qty    47375.0    2.198734    1.712699  1.00   1.000    1.00   \n",
       "payment_installments  47375.0    3.112317    2.901790  1.00   1.000    2.00   \n",
       "payment_value         47375.0  186.897881  309.474767  0.00  64.915  116.45   \n",
       "\n",
       "                         75%       max  \n",
       "review_score            5.00      5.00  \n",
       "price                 136.90   6735.00  \n",
       "product_photos_qty      3.00     19.00  \n",
       "payment_installments    4.00     24.00  \n",
       "payment_value         203.33  13664.08  "
      ]
     },
     "execution_count": 10,
     "metadata": {},
     "output_type": "execute_result"
    }
   ],
   "source": [
    "df_clean.describe().T"
   ]
  },
  {
   "cell_type": "markdown",
   "id": "39f778fd",
   "metadata": {},
   "source": [
    "## SEGMENTATION RFM\n",
    "Dns cette partie nous allons effectuer l'analyse RFM (Recency, Frequency, Monetary) sur le DataFrame nettoyé df_clen. Il regroupe les données par «ID client» et calcule trois métriques pour chaque client :\n",
    "Récence : Le nombre de jours depuis le dernier achat du client. \n",
    "Fréquence : Le nombre d'achat associés à chaque client.\n",
    "Monétaire : le montant total dépensé par chaque client."
   ]
  },
  {
   "cell_type": "code",
   "execution_count": 11,
   "id": "a17a381d",
   "metadata": {},
   "outputs": [
    {
     "data": {
      "text/plain": [
       "'2016-10-03 09:44:50'"
      ]
     },
     "execution_count": 11,
     "metadata": {},
     "output_type": "execute_result"
    }
   ],
   "source": [
    "# Recherche de la date la plus ancienne\n",
    "ancien = df_clean[\"order_purchase_timestamp\"].min()\n",
    "ancien"
   ]
  },
  {
   "cell_type": "code",
   "execution_count": 12,
   "id": "7dccb8a8",
   "metadata": {},
   "outputs": [
    {
     "data": {
      "text/plain": [
       "'2018-08-29 14:18:28'"
      ]
     },
     "execution_count": 12,
     "metadata": {},
     "output_type": "execute_result"
    }
   ],
   "source": [
    "# Recherche de la date la plus recente\n",
    "recent = df_clean[\"order_purchase_timestamp\"].max()\n",
    "recent"
   ]
  },
  {
   "cell_type": "code",
   "execution_count": 13,
   "id": "17489e02",
   "metadata": {},
   "outputs": [],
   "source": [
    "import datetime as dt\n",
    "aammjj = str.split(str.split(recent)[0], \"-\")\n",
    "NOW = dt.datetime(int(aammjj[0]), int(aammjj[1]), int(aammjj[2]) + 1)"
   ]
  },
  {
   "cell_type": "code",
   "execution_count": 14,
   "id": "fdebb4e0",
   "metadata": {},
   "outputs": [
    {
     "data": {
      "text/plain": [
       "datetime.datetime(2018, 8, 30, 0, 0)"
      ]
     },
     "execution_count": 14,
     "metadata": {},
     "output_type": "execute_result"
    }
   ],
   "source": [
    "NOW"
   ]
  },
  {
   "cell_type": "code",
   "execution_count": 15,
   "id": "d43427c1",
   "metadata": {},
   "outputs": [
    {
     "name": "stderr",
     "output_type": "stream",
     "text": [
      "/tmp/ipykernel_4328/1496538611.py:2: SettingWithCopyWarning:\n",
      "\n",
      "\n",
      "A value is trying to be set on a copy of a slice from a DataFrame.\n",
      "Try using .loc[row_indexer,col_indexer] = value instead\n",
      "\n",
      "See the caveats in the documentation: https://pandas.pydata.org/pandas-docs/stable/user_guide/indexing.html#returning-a-view-versus-a-copy\n",
      "\n"
     ]
    }
   ],
   "source": [
    "# Changement de type \"order_purchase_timestamp\" à datetime\n",
    "df_clean[\"order_purchase_timestamp\"] = pd.to_datetime(df_clean[\"order_purchase_timestamp\"])"
   ]
  },
  {
   "cell_type": "code",
   "execution_count": 16,
   "id": "1fcf8216",
   "metadata": {},
   "outputs": [],
   "source": [
    "df_rfm = df_clean.groupby('customer_unique_id').\\\n",
    "            agg({\"order_purchase_timestamp\": lambda x: (NOW - x.max()).days,\n",
    "                 \"customer_unique_id\": lambda x: len(x),\n",
    "                 \"payment_value\": lambda x: sum(x)})\n",
    "\n"
   ]
  },
  {
   "cell_type": "code",
   "execution_count": 17,
   "id": "1ae03ed6",
   "metadata": {},
   "outputs": [
    {
     "data": {
      "text/html": [
       "<div>\n",
       "<style scoped>\n",
       "    .dataframe tbody tr th:only-of-type {\n",
       "        vertical-align: middle;\n",
       "    }\n",
       "\n",
       "    .dataframe tbody tr th {\n",
       "        vertical-align: top;\n",
       "    }\n",
       "\n",
       "    .dataframe thead th {\n",
       "        text-align: right;\n",
       "    }\n",
       "</style>\n",
       "<table border=\"1\" class=\"dataframe\">\n",
       "  <thead>\n",
       "    <tr style=\"text-align: right;\">\n",
       "      <th></th>\n",
       "      <th>recency</th>\n",
       "      <th>frequency</th>\n",
       "      <th>monetary_value</th>\n",
       "    </tr>\n",
       "    <tr>\n",
       "      <th>customer_unique_id</th>\n",
       "      <th></th>\n",
       "      <th></th>\n",
       "      <th></th>\n",
       "    </tr>\n",
       "  </thead>\n",
       "  <tbody>\n",
       "    <tr>\n",
       "      <th>0000366f3b9a7992bf8c76cfdf3221e2</th>\n",
       "      <td>111</td>\n",
       "      <td>1</td>\n",
       "      <td>141.90</td>\n",
       "    </tr>\n",
       "    <tr>\n",
       "      <th>0000f6ccb0745a6a4b88665a16c9f078</th>\n",
       "      <td>321</td>\n",
       "      <td>1</td>\n",
       "      <td>43.62</td>\n",
       "    </tr>\n",
       "    <tr>\n",
       "      <th>00053a61a98854899e70ed204dd4bafe</th>\n",
       "      <td>182</td>\n",
       "      <td>2</td>\n",
       "      <td>838.36</td>\n",
       "    </tr>\n",
       "    <tr>\n",
       "      <th>0005ef4cd20d2893f0d9fbd94d3c0d97</th>\n",
       "      <td>170</td>\n",
       "      <td>1</td>\n",
       "      <td>129.76</td>\n",
       "    </tr>\n",
       "    <tr>\n",
       "      <th>0006fdc98a402fceb4eb0ee528f6a8d4</th>\n",
       "      <td>407</td>\n",
       "      <td>1</td>\n",
       "      <td>29.00</td>\n",
       "    </tr>\n",
       "  </tbody>\n",
       "</table>\n",
       "</div>"
      ],
      "text/plain": [
       "                                  recency  frequency  monetary_value\n",
       "customer_unique_id                                                  \n",
       "0000366f3b9a7992bf8c76cfdf3221e2      111          1          141.90\n",
       "0000f6ccb0745a6a4b88665a16c9f078      321          1           43.62\n",
       "00053a61a98854899e70ed204dd4bafe      182          2          838.36\n",
       "0005ef4cd20d2893f0d9fbd94d3c0d97      170          1          129.76\n",
       "0006fdc98a402fceb4eb0ee528f6a8d4      407          1           29.00"
      ]
     },
     "execution_count": 17,
     "metadata": {},
     "output_type": "execute_result"
    }
   ],
   "source": [
    "df_rfm['order_purchase_timestamp'] = df_rfm['order_purchase_timestamp'].astype(int)\n",
    "\n",
    "df_rfm.rename(columns={'order_purchase_timestamp': 'recency',\n",
    "                         'customer_unique_id': 'frequency',\n",
    "                         'payment_value': 'monetary_value'}, inplace=True)\n",
    "df_rfm.head()"
   ]
  },
  {
   "cell_type": "code",
   "execution_count": 18,
   "id": "011d41eb",
   "metadata": {},
   "outputs": [],
   "source": [
    "# Calcul du score de récence en fonction des quantiles, en attribuant des étiquettes de 1 à 5 (1 étant la récence la plus basse)\n",
    "df_rfm[\"recency_score\"] = pd.qcut(df_rfm['recency'], 5, labels=[5, 4, 3, 2, 1])\n",
    "    \n",
    "# Calcul du score de fréquence en fonction des quantiles de rang, en attribuant des étiquettes de 1 à 5 (1 étant la fréquence la plus basse)\n",
    "df_rfm[\"frequency_score\"] = pd.qcut(df_rfm[\"frequency\"].rank(method=\"first\"), 5, labels=[1, 2, 3, 4, 5])"
   ]
  },
  {
   "cell_type": "code",
   "execution_count": 19,
   "id": "cebbc9ee",
   "metadata": {},
   "outputs": [
    {
     "data": {
      "text/plain": [
       "[1, 5, 2, 3, 4]\n",
       "Categories (5, int64): [1 < 2 < 3 < 4 < 5]"
      ]
     },
     "execution_count": 19,
     "metadata": {},
     "output_type": "execute_result"
    }
   ],
   "source": [
    "df_rfm.frequency_score.unique()"
   ]
  },
  {
   "cell_type": "code",
   "execution_count": 20,
   "id": "1e749512",
   "metadata": {},
   "outputs": [
    {
     "data": {
      "text/plain": [
       "[4, 2, 3, 1, 5]\n",
       "Categories (5, int64): [5 < 4 < 3 < 2 < 1]"
      ]
     },
     "execution_count": 20,
     "metadata": {},
     "output_type": "execute_result"
    }
   ],
   "source": [
    "df_rfm.recency_score.unique()"
   ]
  },
  {
   "cell_type": "code",
   "execution_count": 21,
   "id": "f7c4c0b9",
   "metadata": {},
   "outputs": [
    {
     "data": {
      "text/html": [
       "<div>\n",
       "<style scoped>\n",
       "    .dataframe tbody tr th:only-of-type {\n",
       "        vertical-align: middle;\n",
       "    }\n",
       "\n",
       "    .dataframe tbody tr th {\n",
       "        vertical-align: top;\n",
       "    }\n",
       "\n",
       "    .dataframe thead th {\n",
       "        text-align: right;\n",
       "    }\n",
       "</style>\n",
       "<table border=\"1\" class=\"dataframe\">\n",
       "  <thead>\n",
       "    <tr style=\"text-align: right;\">\n",
       "      <th></th>\n",
       "      <th>recency</th>\n",
       "      <th>frequency</th>\n",
       "      <th>monetary_value</th>\n",
       "      <th>recency_score</th>\n",
       "      <th>frequency_score</th>\n",
       "      <th>segment</th>\n",
       "    </tr>\n",
       "    <tr>\n",
       "      <th>customer_unique_id</th>\n",
       "      <th></th>\n",
       "      <th></th>\n",
       "      <th></th>\n",
       "      <th></th>\n",
       "      <th></th>\n",
       "      <th></th>\n",
       "    </tr>\n",
       "  </thead>\n",
       "  <tbody>\n",
       "    <tr>\n",
       "      <th>0000366f3b9a7992bf8c76cfdf3221e2</th>\n",
       "      <td>111</td>\n",
       "      <td>1</td>\n",
       "      <td>141.90</td>\n",
       "      <td>4</td>\n",
       "      <td>1</td>\n",
       "      <td>41</td>\n",
       "    </tr>\n",
       "    <tr>\n",
       "      <th>0000f6ccb0745a6a4b88665a16c9f078</th>\n",
       "      <td>321</td>\n",
       "      <td>1</td>\n",
       "      <td>43.62</td>\n",
       "      <td>2</td>\n",
       "      <td>1</td>\n",
       "      <td>21</td>\n",
       "    </tr>\n",
       "    <tr>\n",
       "      <th>00053a61a98854899e70ed204dd4bafe</th>\n",
       "      <td>182</td>\n",
       "      <td>2</td>\n",
       "      <td>838.36</td>\n",
       "      <td>3</td>\n",
       "      <td>5</td>\n",
       "      <td>35</td>\n",
       "    </tr>\n",
       "    <tr>\n",
       "      <th>0005ef4cd20d2893f0d9fbd94d3c0d97</th>\n",
       "      <td>170</td>\n",
       "      <td>1</td>\n",
       "      <td>129.76</td>\n",
       "      <td>4</td>\n",
       "      <td>1</td>\n",
       "      <td>41</td>\n",
       "    </tr>\n",
       "    <tr>\n",
       "      <th>0006fdc98a402fceb4eb0ee528f6a8d4</th>\n",
       "      <td>407</td>\n",
       "      <td>1</td>\n",
       "      <td>29.00</td>\n",
       "      <td>1</td>\n",
       "      <td>1</td>\n",
       "      <td>11</td>\n",
       "    </tr>\n",
       "  </tbody>\n",
       "</table>\n",
       "</div>"
      ],
      "text/plain": [
       "                                  recency  frequency  monetary_value  \\\n",
       "customer_unique_id                                                     \n",
       "0000366f3b9a7992bf8c76cfdf3221e2      111          1          141.90   \n",
       "0000f6ccb0745a6a4b88665a16c9f078      321          1           43.62   \n",
       "00053a61a98854899e70ed204dd4bafe      182          2          838.36   \n",
       "0005ef4cd20d2893f0d9fbd94d3c0d97      170          1          129.76   \n",
       "0006fdc98a402fceb4eb0ee528f6a8d4      407          1           29.00   \n",
       "\n",
       "                                 recency_score frequency_score segment  \n",
       "customer_unique_id                                                      \n",
       "0000366f3b9a7992bf8c76cfdf3221e2             4               1      41  \n",
       "0000f6ccb0745a6a4b88665a16c9f078             2               1      21  \n",
       "00053a61a98854899e70ed204dd4bafe             3               5      35  \n",
       "0005ef4cd20d2893f0d9fbd94d3c0d97             4               1      41  \n",
       "0006fdc98a402fceb4eb0ee528f6a8d4             1               1      11  "
      ]
     },
     "execution_count": 21,
     "metadata": {},
     "output_type": "execute_result"
    }
   ],
   "source": [
    "df_rfm['segment'] = df_rfm['recency_score'].astype(str) + df_rfm['frequency_score'].astype(str)\n",
    "df_rfm.head()"
   ]
  },
  {
   "cell_type": "code",
   "execution_count": 22,
   "id": "8789ec34",
   "metadata": {},
   "outputs": [],
   "source": [
    "seg_map = {\n",
    "r'[1-2][1-2]': 'Clients_presque_perdus',\n",
    "r'[1-2][3-4]': 'clients_perdus',\n",
    "r'[1-2]5': 'clients_à_réactiver',\n",
    "r'3[1-2]': 'clients_à_pas_perdre',\n",
    "r'33': 'clients_risqués',\n",
    "r'[3-4][4-5]': 'clients_promoteurs',\n",
    "r'41': 'nouveux_clients',\n",
    "r'51': 'clients_fidèls',\n",
    "r'[4-5][2-3]': 'clients_à_surveiller',\n",
    "r'5[4-5]': 'champions'\n",
    "}"
   ]
  },
  {
   "cell_type": "code",
   "execution_count": 23,
   "id": "d29deb90",
   "metadata": {},
   "outputs": [
    {
     "data": {
      "text/html": [
       "<div>\n",
       "<style scoped>\n",
       "    .dataframe tbody tr th:only-of-type {\n",
       "        vertical-align: middle;\n",
       "    }\n",
       "\n",
       "    .dataframe tbody tr th {\n",
       "        vertical-align: top;\n",
       "    }\n",
       "\n",
       "    .dataframe thead th {\n",
       "        text-align: right;\n",
       "    }\n",
       "</style>\n",
       "<table border=\"1\" class=\"dataframe\">\n",
       "  <thead>\n",
       "    <tr style=\"text-align: right;\">\n",
       "      <th></th>\n",
       "      <th>recency</th>\n",
       "      <th>frequency</th>\n",
       "      <th>monetary_value</th>\n",
       "      <th>segment</th>\n",
       "    </tr>\n",
       "    <tr>\n",
       "      <th>customer_unique_id</th>\n",
       "      <th></th>\n",
       "      <th></th>\n",
       "      <th></th>\n",
       "      <th></th>\n",
       "    </tr>\n",
       "  </thead>\n",
       "  <tbody>\n",
       "    <tr>\n",
       "      <th>0000366f3b9a7992bf8c76cfdf3221e2</th>\n",
       "      <td>111</td>\n",
       "      <td>1</td>\n",
       "      <td>141.90</td>\n",
       "      <td>nouveux_clients</td>\n",
       "    </tr>\n",
       "    <tr>\n",
       "      <th>0000f6ccb0745a6a4b88665a16c9f078</th>\n",
       "      <td>321</td>\n",
       "      <td>1</td>\n",
       "      <td>43.62</td>\n",
       "      <td>Clients_presque_perdus</td>\n",
       "    </tr>\n",
       "    <tr>\n",
       "      <th>00053a61a98854899e70ed204dd4bafe</th>\n",
       "      <td>182</td>\n",
       "      <td>2</td>\n",
       "      <td>838.36</td>\n",
       "      <td>clients_promoteurs</td>\n",
       "    </tr>\n",
       "    <tr>\n",
       "      <th>0005ef4cd20d2893f0d9fbd94d3c0d97</th>\n",
       "      <td>170</td>\n",
       "      <td>1</td>\n",
       "      <td>129.76</td>\n",
       "      <td>nouveux_clients</td>\n",
       "    </tr>\n",
       "    <tr>\n",
       "      <th>0006fdc98a402fceb4eb0ee528f6a8d4</th>\n",
       "      <td>407</td>\n",
       "      <td>1</td>\n",
       "      <td>29.00</td>\n",
       "      <td>Clients_presque_perdus</td>\n",
       "    </tr>\n",
       "  </tbody>\n",
       "</table>\n",
       "</div>"
      ],
      "text/plain": [
       "                                  recency  frequency  monetary_value  \\\n",
       "customer_unique_id                                                     \n",
       "0000366f3b9a7992bf8c76cfdf3221e2      111          1          141.90   \n",
       "0000f6ccb0745a6a4b88665a16c9f078      321          1           43.62   \n",
       "00053a61a98854899e70ed204dd4bafe      182          2          838.36   \n",
       "0005ef4cd20d2893f0d9fbd94d3c0d97      170          1          129.76   \n",
       "0006fdc98a402fceb4eb0ee528f6a8d4      407          1           29.00   \n",
       "\n",
       "                                                 segment  \n",
       "customer_unique_id                                        \n",
       "0000366f3b9a7992bf8c76cfdf3221e2         nouveux_clients  \n",
       "0000f6ccb0745a6a4b88665a16c9f078  Clients_presque_perdus  \n",
       "00053a61a98854899e70ed204dd4bafe      clients_promoteurs  \n",
       "0005ef4cd20d2893f0d9fbd94d3c0d97         nouveux_clients  \n",
       "0006fdc98a402fceb4eb0ee528f6a8d4  Clients_presque_perdus  "
      ]
     },
     "execution_count": 23,
     "metadata": {},
     "output_type": "execute_result"
    }
   ],
   "source": [
    "# Mappeage des segments RFM aux segments clients correspondants à l'aide de seg_map prédéfini\n",
    "df_rfm['segment'] = df_rfm['segment'].replace(seg_map, regex=True)\n",
    "\n",
    "# Conservez uniquement les colonnes pertinentes et renvoyez la trame de données résultante\n",
    "df_rfm = df_rfm[[\"recency\", \"frequency\", \"monetary_value\", \"segment\"]]\n",
    "\n",
    "#df_rfm.index = df_rfm.index.astype(int)  # Convert index to integer\n",
    "df_rfm.head()"
   ]
  },
  {
   "cell_type": "markdown",
   "id": "9a3c6095",
   "metadata": {},
   "source": [
    "## La grille illustrative de RFM"
   ]
  },
  {
   "cell_type": "code",
   "execution_count": 24,
   "id": "45a27d11",
   "metadata": {},
   "outputs": [
    {
     "data": {
      "image/png": "[encoded data removed]",
      "text/plain": [
       "<Figure size 864x576 with 1 Axes>"
      ]
     },
     "metadata": {},
     "output_type": "display_data"
    }
   ],
   "source": [
    "import squarify\n",
    "note_pie = df_rfm.segment.value_counts()\n",
    "labels = note_pie.index\n",
    "labels = []\n",
    "for i in range(0,len(note_pie)):\n",
    "    labels.append(f\"{note_pie.index[i]}\\n ({note_pie[i]})\")\n",
    "    \n",
    "colors = [plt.cm.Spectral(i/float(len(labels))) for i in range(len(labels))]\n",
    "\n",
    "plt.figure(figsize=(12, 8))\n",
    "squarify.plot(sizes=note_pie, label=labels, alpha=.8, color=colors)\n",
    "plt.axis('off')\n",
    "plt.title('repartion des classes RFM')\n",
    "plt.savefig('P2_02_Treemap_RFM.jpg')\n",
    "plt.show()"
   ]
  },
  {
   "cell_type": "markdown",
   "id": "b2cea22f",
   "metadata": {},
   "source": [
    "La grille RFM illustrée ci-dessus représente une pratique standard adoptée par la plupart des entreprises pour définir leur clientèle. Par la suite, il contribue à la planification stratégique de campagnes ciblées visant à impliquer efficacement chaque segment. En analysant la récence, la fréquence et la valeur monétaire des transactions clients, les organisations obtiennent des informations précieuses qui leur permettent d'adapter leurs initiatives marketing aux préférences et aux besoins de segments de clientèle distincts. Cette approche favorise un engagement et une fidélité accrus des clients, contribuant ainsi au succès global de l'entreprise."
   ]
  },
  {
   "cell_type": "code",
   "execution_count": 99,
   "id": "035994db",
   "metadata": {},
   "outputs": [
    {
     "data": {
      "application/vnd.plotly.v1+json": {
       "config": {
        "plotlyServerURL": "https://plot.ly"
       },
       "data": [
        {
         "alignmentgroup": "True",
         "hovertemplate": "color=clients_à_surveiller<br>Product=%{x}<br>Count=%{y}<br>text=%{text}<extra></extra>",
         "legendgroup": "clients_à_surveiller",
         "marker": {
          "color": "#636efa",
          "pattern": {
           "shape": ""
          }
         },
         "name": "clients_à_surveiller",
         "offsetgroup": "clients_à_surveiller",
         "orientation": "v",
         "showlegend": true,
         "text": [
          6031
         ],
         "textposition": "auto",
         "type": "bar",
         "x": [
          "clients_à_surveiller"
         ],
         "xaxis": "x",
         "y": [
          6031
         ],
         "yaxis": "y"
        },
        {
         "alignmentgroup": "True",
         "hovertemplate": "color=clients_promoteurs<br>Product=%{x}<br>Count=%{y}<br>text=%{text}<extra></extra>",
         "legendgroup": "clients_promoteurs",
         "marker": {
          "color": "#EF553B",
          "pattern": {
           "shape": ""
          }
         },
         "name": "clients_promoteurs",
         "offsetgroup": "clients_promoteurs",
         "orientation": "v",
         "showlegend": true,
         "text": [
          6025
         ],
         "textposition": "auto",
         "type": "bar",
         "x": [
          "clients_promoteurs"
         ],
         "xaxis": "x",
         "y": [
          6025
         ],
         "yaxis": "y"
        },
        {
         "alignmentgroup": "True",
         "hovertemplate": "color=Clients_presque_perdus<br>Product=%{x}<br>Count=%{y}<br>text=%{text}<extra></extra>",
         "legendgroup": "Clients_presque_perdus",
         "marker": {
          "color": "#00cc96",
          "pattern": {
           "shape": ""
          }
         },
         "name": "Clients_presque_perdus",
         "offsetgroup": "Clients_presque_perdus",
         "orientation": "v",
         "showlegend": true,
         "text": [
          6016
         ],
         "textposition": "auto",
         "type": "bar",
         "x": [
          "Clients_presque_perdus"
         ],
         "xaxis": "x",
         "y": [
          6016
         ],
         "yaxis": "y"
        },
        {
         "alignmentgroup": "True",
         "hovertemplate": "color=clients_perdus<br>Product=%{x}<br>Count=%{y}<br>text=%{text}<extra></extra>",
         "legendgroup": "clients_perdus",
         "marker": {
          "color": "#ab63fa",
          "pattern": {
           "shape": ""
          }
         },
         "name": "clients_perdus",
         "offsetgroup": "clients_perdus",
         "orientation": "v",
         "showlegend": true,
         "text": [
          5896
         ],
         "textposition": "auto",
         "type": "bar",
         "x": [
          "clients_perdus"
         ],
         "xaxis": "x",
         "y": [
          5896
         ],
         "yaxis": "y"
        },
        {
         "alignmentgroup": "True",
         "hovertemplate": "color=clients_à_réactiver<br>Product=%{x}<br>Count=%{y}<br>text=%{text}<extra></extra>",
         "legendgroup": "clients_à_réactiver",
         "marker": {
          "color": "#FFA15A",
          "pattern": {
           "shape": ""
          }
         },
         "name": "clients_à_réactiver",
         "offsetgroup": "clients_à_réactiver",
         "orientation": "v",
         "showlegend": true,
         "text": [
          3010
         ],
         "textposition": "auto",
         "type": "bar",
         "x": [
          "clients_à_réactiver"
         ],
         "xaxis": "x",
         "y": [
          3010
         ],
         "yaxis": "y"
        },
        {
         "alignmentgroup": "True",
         "hovertemplate": "color=champions<br>Product=%{x}<br>Count=%{y}<br>text=%{text}<extra></extra>",
         "legendgroup": "champions",
         "marker": {
          "color": "#19d3f3",
          "pattern": {
           "shape": ""
          }
         },
         "name": "champions",
         "offsetgroup": "champions",
         "orientation": "v",
         "showlegend": true,
         "text": [
          2993
         ],
         "textposition": "auto",
         "type": "bar",
         "x": [
          "champions"
         ],
         "xaxis": "x",
         "y": [
          2993
         ],
         "yaxis": "y"
        },
        {
         "alignmentgroup": "True",
         "hovertemplate": "color=clients_à_pas_perdre<br>Product=%{x}<br>Count=%{y}<br>text=%{text}<extra></extra>",
         "legendgroup": "clients_à_pas_perdre",
         "marker": {
          "color": "#FF6692",
          "pattern": {
           "shape": ""
          }
         },
         "name": "clients_à_pas_perdre",
         "offsetgroup": "clients_à_pas_perdre",
         "orientation": "v",
         "showlegend": true,
         "text": [
          2907
         ],
         "textposition": "auto",
         "type": "bar",
         "x": [
          "clients_à_pas_perdre"
         ],
         "xaxis": "x",
         "y": [
          2907
         ],
         "yaxis": "y"
        },
        {
         "alignmentgroup": "True",
         "hovertemplate": "color=clients_risqués<br>Product=%{x}<br>Count=%{y}<br>text=%{text}<extra></extra>",
         "legendgroup": "clients_risqués",
         "marker": {
          "color": "#B6E880",
          "pattern": {
           "shape": ""
          }
         },
         "name": "clients_risqués",
         "offsetgroup": "clients_risqués",
         "orientation": "v",
         "showlegend": true,
         "text": [
          1574
         ],
         "textposition": "auto",
         "type": "bar",
         "x": [
          "clients_risqués"
         ],
         "xaxis": "x",
         "y": [
          1574
         ],
         "yaxis": "y"
        },
        {
         "alignmentgroup": "True",
         "hovertemplate": "color=clients_fidèls<br>Product=%{x}<br>Count=%{y}<br>text=%{text}<extra></extra>",
         "legendgroup": "clients_fidèls",
         "marker": {
          "color": "#FF97FF",
          "pattern": {
           "shape": ""
          }
         },
         "name": "clients_fidèls",
         "offsetgroup": "clients_fidèls",
         "orientation": "v",
         "showlegend": true,
         "text": [
          1519
         ],
         "textposition": "auto",
         "type": "bar",
         "x": [
          "clients_fidèls"
         ],
         "xaxis": "x",
         "y": [
          1519
         ],
         "yaxis": "y"
        },
        {
         "alignmentgroup": "True",
         "hovertemplate": "color=nouveux_clients<br>Product=%{x}<br>Count=%{y}<br>text=%{text}<extra></extra>",
         "legendgroup": "nouveux_clients",
         "marker": {
          "color": "#FECB52",
          "pattern": {
           "shape": ""
          }
         },
         "name": "nouveux_clients",
         "offsetgroup": "nouveux_clients",
         "orientation": "v",
         "showlegend": true,
         "text": [
          1518
         ],
         "textposition": "auto",
         "type": "bar",
         "x": [
          "nouveux_clients"
         ],
         "xaxis": "x",
         "y": [
          1518
         ],
         "yaxis": "y"
        }
       ],
       "layout": {
        "barmode": "relative",
        "font": {
         "family": "Arial",
         "size": 15
        },
        "legend": {
         "title": {
          "text": "color"
         },
         "tracegroupgap": 0
        },
        "template": {
         "data": {
          "bar": [
           {
            "error_x": {
             "color": "#2a3f5f"
            },
            "error_y": {
             "color": "#2a3f5f"
            },
            "marker": {
             "line": {
              "color": "#E5ECF6",
              "width": 0.5
             },
             "pattern": {
              "fillmode": "overlay",
              "size": 10,
              "solidity": 0.2
             }
            },
            "type": "bar"
           }
          ],
          "barpolar": [
           {
            "marker": {
             "line": {
              "color": "#E5ECF6",
              "width": 0.5
             },
             "pattern": {
              "fillmode": "overlay",
              "size": 10,
              "solidity": 0.2
             }
            },
            "type": "barpolar"
           }
          ],
          "carpet": [
           {
            "aaxis": {
             "endlinecolor": "#2a3f5f",
             "gridcolor": "white",
             "linecolor": "white",
             "minorgridcolor": "white",
             "startlinecolor": "#2a3f5f"
            },
            "baxis": {
             "endlinecolor": "#2a3f5f",
             "gridcolor": "white",
             "linecolor": "white",
             "minorgridcolor": "white",
             "startlinecolor": "#2a3f5f"
            },
            "type": "carpet"
           }
          ],
          "choropleth": [
           {
            "colorbar": {
             "outlinewidth": 0,
             "ticks": ""
            },
            "type": "choropleth"
           }
          ],
          "contour": [
           {
            "colorbar": {
             "outlinewidth": 0,
             "ticks": ""
            },
            "colorscale": [
             [
              0,
              "#0d0887"
             ],
             [
              0.1111111111111111,
              "#46039f"
             ],
             [
              0.2222222222222222,
              "#7201a8"
             ],
             [
              0.3333333333333333,
              "#9c179e"
             ],
             [
              0.4444444444444444,
              "#bd3786"
             ],
             [
              0.5555555555555556,
              "#d8576b"
             ],
             [
              0.6666666666666666,
              "#ed7953"
             ],
             [
              0.7777777777777778,
              "#fb9f3a"
             ],
             [
              0.8888888888888888,
              "#fdca26"
             ],
             [
              1,
              "#f0f921"
             ]
            ],
            "type": "contour"
           }
          ],
          "contourcarpet": [
           {
            "colorbar": {
             "outlinewidth": 0,
             "ticks": ""
            },
            "type": "contourcarpet"
           }
          ],
          "heatmap": [
           {
            "colorbar": {
             "outlinewidth": 0,
             "ticks": ""
            },
            "colorscale": [
             [
              0,
              "#0d0887"
             ],
             [
              0.1111111111111111,
              "#46039f"
             ],
             [
              0.2222222222222222,
              "#7201a8"
             ],
             [
              0.3333333333333333,
              "#9c179e"
             ],
             [
              0.4444444444444444,
              "#bd3786"
             ],
             [
              0.5555555555555556,
              "#d8576b"
             ],
             [
              0.6666666666666666,
              "#ed7953"
             ],
             [
              0.7777777777777778,
              "#fb9f3a"
             ],
             [
              0.8888888888888888,
              "#fdca26"
             ],
             [
              1,
              "#f0f921"
             ]
            ],
            "type": "heatmap"
           }
          ],
          "heatmapgl": [
           {
            "colorbar": {
             "outlinewidth": 0,
             "ticks": ""
            },
            "colorscale": [
             [
              0,
              "#0d0887"
             ],
             [
              0.1111111111111111,
              "#46039f"
             ],
             [
              0.2222222222222222,
              "#7201a8"
             ],
             [
              0.3333333333333333,
              "#9c179e"
             ],
             [
              0.4444444444444444,
              "#bd3786"
             ],
             [
              0.5555555555555556,
              "#d8576b"
             ],
             [
              0.6666666666666666,
              "#ed7953"
             ],
             [
              0.7777777777777778,
              "#fb9f3a"
             ],
             [
              0.8888888888888888,
              "#fdca26"
             ],
             [
              1,
              "#f0f921"
             ]
            ],
            "type": "heatmapgl"
           }
          ],
          "histogram": [
           {
            "marker": {
             "pattern": {
              "fillmode": "overlay",
              "size": 10,
              "solidity": 0.2
             }
            },
            "type": "histogram"
           }
          ],
          "histogram2d": [
           {
            "colorbar": {
             "outlinewidth": 0,
             "ticks": ""
            },
            "colorscale": [
             [
              0,
              "#0d0887"
             ],
             [
              0.1111111111111111,
              "#46039f"
             ],
             [
              0.2222222222222222,
              "#7201a8"
             ],
             [
              0.3333333333333333,
              "#9c179e"
             ],
             [
              0.4444444444444444,
              "#bd3786"
             ],
             [
              0.5555555555555556,
              "#d8576b"
             ],
             [
              0.6666666666666666,
              "#ed7953"
             ],
             [
              0.7777777777777778,
              "#fb9f3a"
             ],
             [
              0.8888888888888888,
              "#fdca26"
             ],
             [
              1,
              "#f0f921"
             ]
            ],
            "type": "histogram2d"
           }
          ],
          "histogram2dcontour": [
           {
            "colorbar": {
             "outlinewidth": 0,
             "ticks": ""
            },
            "colorscale": [
             [
              0,
              "#0d0887"
             ],
             [
              0.1111111111111111,
              "#46039f"
             ],
             [
              0.2222222222222222,
              "#7201a8"
             ],
             [
              0.3333333333333333,
              "#9c179e"
             ],
             [
              0.4444444444444444,
              "#bd3786"
             ],
             [
              0.5555555555555556,
              "#d8576b"
             ],
             [
              0.6666666666666666,
              "#ed7953"
             ],
             [
              0.7777777777777778,
              "#fb9f3a"
             ],
             [
              0.8888888888888888,
              "#fdca26"
             ],
             [
              1,
              "#f0f921"
             ]
            ],
            "type": "histogram2dcontour"
           }
          ],
          "mesh3d": [
           {
            "colorbar": {
             "outlinewidth": 0,
             "ticks": ""
            },
            "type": "mesh3d"
           }
          ],
          "parcoords": [
           {
            "line": {
             "colorbar": {
              "outlinewidth": 0,
              "ticks": ""
             }
            },
            "type": "parcoords"
           }
          ],
          "pie": [
           {
            "automargin": true,
            "type": "pie"
           }
          ],
          "scatter": [
           {
            "marker": {
             "colorbar": {
              "outlinewidth": 0,
              "ticks": ""
             }
            },
            "type": "scatter"
           }
          ],
          "scatter3d": [
           {
            "line": {
             "colorbar": {
              "outlinewidth": 0,
              "ticks": ""
             }
            },
            "marker": {
             "colorbar": {
              "outlinewidth": 0,
              "ticks": ""
             }
            },
            "type": "scatter3d"
           }
          ],
          "scattercarpet": [
           {
            "marker": {
             "colorbar": {
              "outlinewidth": 0,
              "ticks": ""
             }
            },
            "type": "scattercarpet"
           }
          ],
          "scattergeo": [
           {
            "marker": {
             "colorbar": {
              "outlinewidth": 0,
              "ticks": ""
             }
            },
            "type": "scattergeo"
           }
          ],
          "scattergl": [
           {
            "marker": {
             "colorbar": {
              "outlinewidth": 0,
              "ticks": ""
             }
            },
            "type": "scattergl"
           }
          ],
          "scattermapbox": [
           {
            "marker": {
             "colorbar": {
              "outlinewidth": 0,
              "ticks": ""
             }
            },
            "type": "scattermapbox"
           }
          ],
          "scatterpolar": [
           {
            "marker": {
             "colorbar": {
              "outlinewidth": 0,
              "ticks": ""
             }
            },
            "type": "scatterpolar"
           }
          ],
          "scatterpolargl": [
           {
            "marker": {
             "colorbar": {
              "outlinewidth": 0,
              "ticks": ""
             }
            },
            "type": "scatterpolargl"
           }
          ],
          "scatterternary": [
           {
            "marker": {
             "colorbar": {
              "outlinewidth": 0,
              "ticks": ""
             }
            },
            "type": "scatterternary"
           }
          ],
          "surface": [
           {
            "colorbar": {
             "outlinewidth": 0,
             "ticks": ""
            },
            "colorscale": [
             [
              0,
              "#0d0887"
             ],
             [
              0.1111111111111111,
              "#46039f"
             ],
             [
              0.2222222222222222,
              "#7201a8"
             ],
             [
              0.3333333333333333,
              "#9c179e"
             ],
             [
              0.4444444444444444,
              "#bd3786"
             ],
             [
              0.5555555555555556,
              "#d8576b"
             ],
             [
              0.6666666666666666,
              "#ed7953"
             ],
             [
              0.7777777777777778,
              "#fb9f3a"
             ],
             [
              0.8888888888888888,
              "#fdca26"
             ],
             [
              1,
              "#f0f921"
             ]
            ],
            "type": "surface"
           }
          ],
          "table": [
           {
            "cells": {
             "fill": {
              "color": "#EBF0F8"
             },
             "line": {
              "color": "white"
             }
            },
            "header": {
             "fill": {
              "color": "#C8D4E3"
             },
             "line": {
              "color": "white"
             }
            },
            "type": "table"
           }
          ]
         },
         "layout": {
          "annotationdefaults": {
           "arrowcolor": "#2a3f5f",
           "arrowhead": 0,
           "arrowwidth": 1
          },
          "autotypenumbers": "strict",
          "coloraxis": {
           "colorbar": {
            "outlinewidth": 0,
            "ticks": ""
           }
          },
          "colorscale": {
           "diverging": [
            [
             0,
             "#8e0152"
            ],
            [
             0.1,
             "#c51b7d"
            ],
            [
             0.2,
             "#de77ae"
            ],
            [
             0.3,
             "#f1b6da"
            ],
            [
             0.4,
             "#fde0ef"
            ],
            [
             0.5,
             "#f7f7f7"
            ],
            [
             0.6,
             "#e6f5d0"
            ],
            [
             0.7,
             "#b8e186"
            ],
            [
             0.8,
             "#7fbc41"
            ],
            [
             0.9,
             "#4d9221"
            ],
            [
             1,
             "#276419"
            ]
           ],
           "sequential": [
            [
             0,
             "#0d0887"
            ],
            [
             0.1111111111111111,
             "#46039f"
            ],
            [
             0.2222222222222222,
             "#7201a8"
            ],
            [
             0.3333333333333333,
             "#9c179e"
            ],
            [
             0.4444444444444444,
             "#bd3786"
            ],
            [
             0.5555555555555556,
             "#d8576b"
            ],
            [
             0.6666666666666666,
             "#ed7953"
            ],
            [
             0.7777777777777778,
             "#fb9f3a"
            ],
            [
             0.8888888888888888,
             "#fdca26"
            ],
            [
             1,
             "#f0f921"
            ]
           ],
           "sequentialminus": [
            [
             0,
             "#0d0887"
            ],
            [
             0.1111111111111111,
             "#46039f"
            ],
            [
             0.2222222222222222,
             "#7201a8"
            ],
            [
             0.3333333333333333,
             "#9c179e"
            ],
            [
             0.4444444444444444,
             "#bd3786"
            ],
            [
             0.5555555555555556,
             "#d8576b"
            ],
            [
             0.6666666666666666,
             "#ed7953"
            ],
            [
             0.7777777777777778,
             "#fb9f3a"
            ],
            [
             0.8888888888888888,
             "#fdca26"
            ],
            [
             1,
             "#f0f921"
            ]
           ]
          },
          "colorway": [
           "#636efa",
           "#EF553B",
           "#00cc96",
           "#ab63fa",
           "#FFA15A",
           "#19d3f3",
           "#FF6692",
           "#B6E880",
           "#FF97FF",
           "#FECB52"
          ],
          "font": {
           "color": "#2a3f5f"
          },
          "geo": {
           "bgcolor": "white",
           "lakecolor": "white",
           "landcolor": "#E5ECF6",
           "showlakes": true,
           "showland": true,
           "subunitcolor": "white"
          },
          "hoverlabel": {
           "align": "left"
          },
          "hovermode": "closest",
          "mapbox": {
           "style": "light"
          },
          "paper_bgcolor": "white",
          "plot_bgcolor": "#E5ECF6",
          "polar": {
           "angularaxis": {
            "gridcolor": "white",
            "linecolor": "white",
            "ticks": ""
           },
           "bgcolor": "#E5ECF6",
           "radialaxis": {
            "gridcolor": "white",
            "linecolor": "white",
            "ticks": ""
           }
          },
          "scene": {
           "xaxis": {
            "backgroundcolor": "#E5ECF6",
            "gridcolor": "white",
            "gridwidth": 2,
            "linecolor": "white",
            "showbackground": true,
            "ticks": "",
            "zerolinecolor": "white"
           },
           "yaxis": {
            "backgroundcolor": "#E5ECF6",
            "gridcolor": "white",
            "gridwidth": 2,
            "linecolor": "white",
            "showbackground": true,
            "ticks": "",
            "zerolinecolor": "white"
           },
           "zaxis": {
            "backgroundcolor": "#E5ECF6",
            "gridcolor": "white",
            "gridwidth": 2,
            "linecolor": "white",
            "showbackground": true,
            "ticks": "",
            "zerolinecolor": "white"
           }
          },
          "shapedefaults": {
           "line": {
            "color": "#2a3f5f"
           }
          },
          "ternary": {
           "aaxis": {
            "gridcolor": "white",
            "linecolor": "white",
            "ticks": ""
           },
           "baxis": {
            "gridcolor": "white",
            "linecolor": "white",
            "ticks": ""
           },
           "bgcolor": "#E5ECF6",
           "caxis": {
            "gridcolor": "white",
            "linecolor": "white",
            "ticks": ""
           }
          },
          "title": {
           "x": 0.05
          },
          "xaxis": {
           "automargin": true,
           "gridcolor": "white",
           "linecolor": "white",
           "ticks": "",
           "title": {
            "standoff": 15
           },
           "zerolinecolor": "white",
           "zerolinewidth": 2
          },
          "yaxis": {
           "automargin": true,
           "gridcolor": "white",
           "linecolor": "white",
           "ticks": "",
           "title": {
            "standoff": 15
           },
           "zerolinecolor": "white",
           "zerolinewidth": 2
          }
         }
        },
        "title": {
         "font": {
          "family": "Arial",
          "size": 20
         },
         "text": "RFM Segments"
        },
        "xaxis": {
         "anchor": "y",
         "domain": [
          0,
          1
         ],
         "title": {
          "text": "Segment"
         }
        },
        "yaxis": {
         "anchor": "x",
         "domain": [
          0,
          1
         ],
         "title": {
          "text": "Count"
         }
        }
       }
      },
      "text/html": [
       "<div>                            <div id=\"3433f68e-ca29-4e05-8d1b-34e59e470899\" class=\"plotly-graph-div\" style=\"height:525px; width:100%;\"></div>            <script type=\"text/javascript\">                require([\"plotly\"], function(Plotly) {                    window.PLOTLYENV=window.PLOTLYENV || {};                                    if (document.getElementById(\"3433f68e-ca29-4e05-8d1b-34e59e470899\")) {                    Plotly.newPlot(                        \"3433f68e-ca29-4e05-8d1b-34e59e470899\",                        [{\"alignmentgroup\":\"True\",\"hovertemplate\":\"color=clients_\\u00e0_surveiller<br>Product=%{x}<br>Count=%{y}<br>text=%{text}<extra></extra>\",\"legendgroup\":\"clients_\\u00e0_surveiller\",\"marker\":{\"color\":\"#636efa\",\"pattern\":{\"shape\":\"\"}},\"name\":\"clients_\\u00e0_surveiller\",\"offsetgroup\":\"clients_\\u00e0_surveiller\",\"orientation\":\"v\",\"showlegend\":true,\"text\":[6031.0],\"textposition\":\"auto\",\"x\":[\"clients_\\u00e0_surveiller\"],\"xaxis\":\"x\",\"y\":[6031],\"yaxis\":\"y\",\"type\":\"bar\"},{\"alignmentgroup\":\"True\",\"hovertemplate\":\"color=clients_promoteurs<br>Product=%{x}<br>Count=%{y}<br>text=%{text}<extra></extra>\",\"legendgroup\":\"clients_promoteurs\",\"marker\":{\"color\":\"#EF553B\",\"pattern\":{\"shape\":\"\"}},\"name\":\"clients_promoteurs\",\"offsetgroup\":\"clients_promoteurs\",\"orientation\":\"v\",\"showlegend\":true,\"text\":[6025.0],\"textposition\":\"auto\",\"x\":[\"clients_promoteurs\"],\"xaxis\":\"x\",\"y\":[6025],\"yaxis\":\"y\",\"type\":\"bar\"},{\"alignmentgroup\":\"True\",\"hovertemplate\":\"color=Clients_presque_perdus<br>Product=%{x}<br>Count=%{y}<br>text=%{text}<extra></extra>\",\"legendgroup\":\"Clients_presque_perdus\",\"marker\":{\"color\":\"#00cc96\",\"pattern\":{\"shape\":\"\"}},\"name\":\"Clients_presque_perdus\",\"offsetgroup\":\"Clients_presque_perdus\",\"orientation\":\"v\",\"showlegend\":true,\"text\":[6016.0],\"textposition\":\"auto\",\"x\":[\"Clients_presque_perdus\"],\"xaxis\":\"x\",\"y\":[6016],\"yaxis\":\"y\",\"type\":\"bar\"},{\"alignmentgroup\":\"True\",\"hovertemplate\":\"color=clients_perdus<br>Product=%{x}<br>Count=%{y}<br>text=%{text}<extra></extra>\",\"legendgroup\":\"clients_perdus\",\"marker\":{\"color\":\"#ab63fa\",\"pattern\":{\"shape\":\"\"}},\"name\":\"clients_perdus\",\"offsetgroup\":\"clients_perdus\",\"orientation\":\"v\",\"showlegend\":true,\"text\":[5896.0],\"textposition\":\"auto\",\"x\":[\"clients_perdus\"],\"xaxis\":\"x\",\"y\":[5896],\"yaxis\":\"y\",\"type\":\"bar\"},{\"alignmentgroup\":\"True\",\"hovertemplate\":\"color=clients_\\u00e0_r\\u00e9activer<br>Product=%{x}<br>Count=%{y}<br>text=%{text}<extra></extra>\",\"legendgroup\":\"clients_\\u00e0_r\\u00e9activer\",\"marker\":{\"color\":\"#FFA15A\",\"pattern\":{\"shape\":\"\"}},\"name\":\"clients_\\u00e0_r\\u00e9activer\",\"offsetgroup\":\"clients_\\u00e0_r\\u00e9activer\",\"orientation\":\"v\",\"showlegend\":true,\"text\":[3010.0],\"textposition\":\"auto\",\"x\":[\"clients_\\u00e0_r\\u00e9activer\"],\"xaxis\":\"x\",\"y\":[3010],\"yaxis\":\"y\",\"type\":\"bar\"},{\"alignmentgroup\":\"True\",\"hovertemplate\":\"color=champions<br>Product=%{x}<br>Count=%{y}<br>text=%{text}<extra></extra>\",\"legendgroup\":\"champions\",\"marker\":{\"color\":\"#19d3f3\",\"pattern\":{\"shape\":\"\"}},\"name\":\"champions\",\"offsetgroup\":\"champions\",\"orientation\":\"v\",\"showlegend\":true,\"text\":[2993.0],\"textposition\":\"auto\",\"x\":[\"champions\"],\"xaxis\":\"x\",\"y\":[2993],\"yaxis\":\"y\",\"type\":\"bar\"},{\"alignmentgroup\":\"True\",\"hovertemplate\":\"color=clients_\\u00e0_pas_perdre<br>Product=%{x}<br>Count=%{y}<br>text=%{text}<extra></extra>\",\"legendgroup\":\"clients_\\u00e0_pas_perdre\",\"marker\":{\"color\":\"#FF6692\",\"pattern\":{\"shape\":\"\"}},\"name\":\"clients_\\u00e0_pas_perdre\",\"offsetgroup\":\"clients_\\u00e0_pas_perdre\",\"orientation\":\"v\",\"showlegend\":true,\"text\":[2907.0],\"textposition\":\"auto\",\"x\":[\"clients_\\u00e0_pas_perdre\"],\"xaxis\":\"x\",\"y\":[2907],\"yaxis\":\"y\",\"type\":\"bar\"},{\"alignmentgroup\":\"True\",\"hovertemplate\":\"color=clients_risqu\\u00e9s<br>Product=%{x}<br>Count=%{y}<br>text=%{text}<extra></extra>\",\"legendgroup\":\"clients_risqu\\u00e9s\",\"marker\":{\"color\":\"#B6E880\",\"pattern\":{\"shape\":\"\"}},\"name\":\"clients_risqu\\u00e9s\",\"offsetgroup\":\"clients_risqu\\u00e9s\",\"orientation\":\"v\",\"showlegend\":true,\"text\":[1574.0],\"textposition\":\"auto\",\"x\":[\"clients_risqu\\u00e9s\"],\"xaxis\":\"x\",\"y\":[1574],\"yaxis\":\"y\",\"type\":\"bar\"},{\"alignmentgroup\":\"True\",\"hovertemplate\":\"color=clients_fid\\u00e8ls<br>Product=%{x}<br>Count=%{y}<br>text=%{text}<extra></extra>\",\"legendgroup\":\"clients_fid\\u00e8ls\",\"marker\":{\"color\":\"#FF97FF\",\"pattern\":{\"shape\":\"\"}},\"name\":\"clients_fid\\u00e8ls\",\"offsetgroup\":\"clients_fid\\u00e8ls\",\"orientation\":\"v\",\"showlegend\":true,\"text\":[1519.0],\"textposition\":\"auto\",\"x\":[\"clients_fid\\u00e8ls\"],\"xaxis\":\"x\",\"y\":[1519],\"yaxis\":\"y\",\"type\":\"bar\"},{\"alignmentgroup\":\"True\",\"hovertemplate\":\"color=nouveux_clients<br>Product=%{x}<br>Count=%{y}<br>text=%{text}<extra></extra>\",\"legendgroup\":\"nouveux_clients\",\"marker\":{\"color\":\"#FECB52\",\"pattern\":{\"shape\":\"\"}},\"name\":\"nouveux_clients\",\"offsetgroup\":\"nouveux_clients\",\"orientation\":\"v\",\"showlegend\":true,\"text\":[1518.0],\"textposition\":\"auto\",\"x\":[\"nouveux_clients\"],\"xaxis\":\"x\",\"y\":[1518],\"yaxis\":\"y\",\"type\":\"bar\"}],                        {\"template\":{\"data\":{\"bar\":[{\"error_x\":{\"color\":\"#2a3f5f\"},\"error_y\":{\"color\":\"#2a3f5f\"},\"marker\":{\"line\":{\"color\":\"#E5ECF6\",\"width\":0.5},\"pattern\":{\"fillmode\":\"overlay\",\"size\":10,\"solidity\":0.2}},\"type\":\"bar\"}],\"barpolar\":[{\"marker\":{\"line\":{\"color\":\"#E5ECF6\",\"width\":0.5},\"pattern\":{\"fillmode\":\"overlay\",\"size\":10,\"solidity\":0.2}},\"type\":\"barpolar\"}],\"carpet\":[{\"aaxis\":{\"endlinecolor\":\"#2a3f5f\",\"gridcolor\":\"white\",\"linecolor\":\"white\",\"minorgridcolor\":\"white\",\"startlinecolor\":\"#2a3f5f\"},\"baxis\":{\"endlinecolor\":\"#2a3f5f\",\"gridcolor\":\"white\",\"linecolor\":\"white\",\"minorgridcolor\":\"white\",\"startlinecolor\":\"#2a3f5f\"},\"type\":\"carpet\"}],\"choropleth\":[{\"colorbar\":{\"outlinewidth\":0,\"ticks\":\"\"},\"type\":\"choropleth\"}],\"contour\":[{\"colorbar\":{\"outlinewidth\":0,\"ticks\":\"\"},\"colorscale\":[[0.0,\"#0d0887\"],[0.1111111111111111,\"#46039f\"],[0.2222222222222222,\"#7201a8\"],[0.3333333333333333,\"#9c179e\"],[0.4444444444444444,\"#bd3786\"],[0.5555555555555556,\"#d8576b\"],[0.6666666666666666,\"#ed7953\"],[0.7777777777777778,\"#fb9f3a\"],[0.8888888888888888,\"#fdca26\"],[1.0,\"#f0f921\"]],\"type\":\"contour\"}],\"contourcarpet\":[{\"colorbar\":{\"outlinewidth\":0,\"ticks\":\"\"},\"type\":\"contourcarpet\"}],\"heatmap\":[{\"colorbar\":{\"outlinewidth\":0,\"ticks\":\"\"},\"colorscale\":[[0.0,\"#0d0887\"],[0.1111111111111111,\"#46039f\"],[0.2222222222222222,\"#7201a8\"],[0.3333333333333333,\"#9c179e\"],[0.4444444444444444,\"#bd3786\"],[0.5555555555555556,\"#d8576b\"],[0.6666666666666666,\"#ed7953\"],[0.7777777777777778,\"#fb9f3a\"],[0.8888888888888888,\"#fdca26\"],[1.0,\"#f0f921\"]],\"type\":\"heatmap\"}],\"heatmapgl\":[{\"colorbar\":{\"outlinewidth\":0,\"ticks\":\"\"},\"colorscale\":[[0.0,\"#0d0887\"],[0.1111111111111111,\"#46039f\"],[0.2222222222222222,\"#7201a8\"],[0.3333333333333333,\"#9c179e\"],[0.4444444444444444,\"#bd3786\"],[0.5555555555555556,\"#d8576b\"],[0.6666666666666666,\"#ed7953\"],[0.7777777777777778,\"#fb9f3a\"],[0.8888888888888888,\"#fdca26\"],[1.0,\"#f0f921\"]],\"type\":\"heatmapgl\"}],\"histogram\":[{\"marker\":{\"pattern\":{\"fillmode\":\"overlay\",\"size\":10,\"solidity\":0.2}},\"type\":\"histogram\"}],\"histogram2d\":[{\"colorbar\":{\"outlinewidth\":0,\"ticks\":\"\"},\"colorscale\":[[0.0,\"#0d0887\"],[0.1111111111111111,\"#46039f\"],[0.2222222222222222,\"#7201a8\"],[0.3333333333333333,\"#9c179e\"],[0.4444444444444444,\"#bd3786\"],[0.5555555555555556,\"#d8576b\"],[0.6666666666666666,\"#ed7953\"],[0.7777777777777778,\"#fb9f3a\"],[0.8888888888888888,\"#fdca26\"],[1.0,\"#f0f921\"]],\"type\":\"histogram2d\"}],\"histogram2dcontour\":[{\"colorbar\":{\"outlinewidth\":0,\"ticks\":\"\"},\"colorscale\":[[0.0,\"#0d0887\"],[0.1111111111111111,\"#46039f\"],[0.2222222222222222,\"#7201a8\"],[0.3333333333333333,\"#9c179e\"],[0.4444444444444444,\"#bd3786\"],[0.5555555555555556,\"#d8576b\"],[0.6666666666666666,\"#ed7953\"],[0.7777777777777778,\"#fb9f3a\"],[0.8888888888888888,\"#fdca26\"],[1.0,\"#f0f921\"]],\"type\":\"histogram2dcontour\"}],\"mesh3d\":[{\"colorbar\":{\"outlinewidth\":0,\"ticks\":\"\"},\"type\":\"mesh3d\"}],\"parcoords\":[{\"line\":{\"colorbar\":{\"outlinewidth\":0,\"ticks\":\"\"}},\"type\":\"parcoords\"}],\"pie\":[{\"automargin\":true,\"type\":\"pie\"}],\"scatter\":[{\"marker\":{\"colorbar\":{\"outlinewidth\":0,\"ticks\":\"\"}},\"type\":\"scatter\"}],\"scatter3d\":[{\"line\":{\"colorbar\":{\"outlinewidth\":0,\"ticks\":\"\"}},\"marker\":{\"colorbar\":{\"outlinewidth\":0,\"ticks\":\"\"}},\"type\":\"scatter3d\"}],\"scattercarpet\":[{\"marker\":{\"colorbar\":{\"outlinewidth\":0,\"ticks\":\"\"}},\"type\":\"scattercarpet\"}],\"scattergeo\":[{\"marker\":{\"colorbar\":{\"outlinewidth\":0,\"ticks\":\"\"}},\"type\":\"scattergeo\"}],\"scattergl\":[{\"marker\":{\"colorbar\":{\"outlinewidth\":0,\"ticks\":\"\"}},\"type\":\"scattergl\"}],\"scattermapbox\":[{\"marker\":{\"colorbar\":{\"outlinewidth\":0,\"ticks\":\"\"}},\"type\":\"scattermapbox\"}],\"scatterpolar\":[{\"marker\":{\"colorbar\":{\"outlinewidth\":0,\"ticks\":\"\"}},\"type\":\"scatterpolar\"}],\"scatterpolargl\":[{\"marker\":{\"colorbar\":{\"outlinewidth\":0,\"ticks\":\"\"}},\"type\":\"scatterpolargl\"}],\"scatterternary\":[{\"marker\":{\"colorbar\":{\"outlinewidth\":0,\"ticks\":\"\"}},\"type\":\"scatterternary\"}],\"surface\":[{\"colorbar\":{\"outlinewidth\":0,\"ticks\":\"\"},\"colorscale\":[[0.0,\"#0d0887\"],[0.1111111111111111,\"#46039f\"],[0.2222222222222222,\"#7201a8\"],[0.3333333333333333,\"#9c179e\"],[0.4444444444444444,\"#bd3786\"],[0.5555555555555556,\"#d8576b\"],[0.6666666666666666,\"#ed7953\"],[0.7777777777777778,\"#fb9f3a\"],[0.8888888888888888,\"#fdca26\"],[1.0,\"#f0f921\"]],\"type\":\"surface\"}],\"table\":[{\"cells\":{\"fill\":{\"color\":\"#EBF0F8\"},\"line\":{\"color\":\"white\"}},\"header\":{\"fill\":{\"color\":\"#C8D4E3\"},\"line\":{\"color\":\"white\"}},\"type\":\"table\"}]},\"layout\":{\"annotationdefaults\":{\"arrowcolor\":\"#2a3f5f\",\"arrowhead\":0,\"arrowwidth\":1},\"autotypenumbers\":\"strict\",\"coloraxis\":{\"colorbar\":{\"outlinewidth\":0,\"ticks\":\"\"}},\"colorscale\":{\"diverging\":[[0,\"#8e0152\"],[0.1,\"#c51b7d\"],[0.2,\"#de77ae\"],[0.3,\"#f1b6da\"],[0.4,\"#fde0ef\"],[0.5,\"#f7f7f7\"],[0.6,\"#e6f5d0\"],[0.7,\"#b8e186\"],[0.8,\"#7fbc41\"],[0.9,\"#4d9221\"],[1,\"#276419\"]],\"sequential\":[[0.0,\"#0d0887\"],[0.1111111111111111,\"#46039f\"],[0.2222222222222222,\"#7201a8\"],[0.3333333333333333,\"#9c179e\"],[0.4444444444444444,\"#bd3786\"],[0.5555555555555556,\"#d8576b\"],[0.6666666666666666,\"#ed7953\"],[0.7777777777777778,\"#fb9f3a\"],[0.8888888888888888,\"#fdca26\"],[1.0,\"#f0f921\"]],\"sequentialminus\":[[0.0,\"#0d0887\"],[0.1111111111111111,\"#46039f\"],[0.2222222222222222,\"#7201a8\"],[0.3333333333333333,\"#9c179e\"],[0.4444444444444444,\"#bd3786\"],[0.5555555555555556,\"#d8576b\"],[0.6666666666666666,\"#ed7953\"],[0.7777777777777778,\"#fb9f3a\"],[0.8888888888888888,\"#fdca26\"],[1.0,\"#f0f921\"]]},\"colorway\":[\"#636efa\",\"#EF553B\",\"#00cc96\",\"#ab63fa\",\"#FFA15A\",\"#19d3f3\",\"#FF6692\",\"#B6E880\",\"#FF97FF\",\"#FECB52\"],\"font\":{\"color\":\"#2a3f5f\"},\"geo\":{\"bgcolor\":\"white\",\"lakecolor\":\"white\",\"landcolor\":\"#E5ECF6\",\"showlakes\":true,\"showland\":true,\"subunitcolor\":\"white\"},\"hoverlabel\":{\"align\":\"left\"},\"hovermode\":\"closest\",\"mapbox\":{\"style\":\"light\"},\"paper_bgcolor\":\"white\",\"plot_bgcolor\":\"#E5ECF6\",\"polar\":{\"angularaxis\":{\"gridcolor\":\"white\",\"linecolor\":\"white\",\"ticks\":\"\"},\"bgcolor\":\"#E5ECF6\",\"radialaxis\":{\"gridcolor\":\"white\",\"linecolor\":\"white\",\"ticks\":\"\"}},\"scene\":{\"xaxis\":{\"backgroundcolor\":\"#E5ECF6\",\"gridcolor\":\"white\",\"gridwidth\":2,\"linecolor\":\"white\",\"showbackground\":true,\"ticks\":\"\",\"zerolinecolor\":\"white\"},\"yaxis\":{\"backgroundcolor\":\"#E5ECF6\",\"gridcolor\":\"white\",\"gridwidth\":2,\"linecolor\":\"white\",\"showbackground\":true,\"ticks\":\"\",\"zerolinecolor\":\"white\"},\"zaxis\":{\"backgroundcolor\":\"#E5ECF6\",\"gridcolor\":\"white\",\"gridwidth\":2,\"linecolor\":\"white\",\"showbackground\":true,\"ticks\":\"\",\"zerolinecolor\":\"white\"}},\"shapedefaults\":{\"line\":{\"color\":\"#2a3f5f\"}},\"ternary\":{\"aaxis\":{\"gridcolor\":\"white\",\"linecolor\":\"white\",\"ticks\":\"\"},\"baxis\":{\"gridcolor\":\"white\",\"linecolor\":\"white\",\"ticks\":\"\"},\"bgcolor\":\"#E5ECF6\",\"caxis\":{\"gridcolor\":\"white\",\"linecolor\":\"white\",\"ticks\":\"\"}},\"title\":{\"x\":0.05},\"xaxis\":{\"automargin\":true,\"gridcolor\":\"white\",\"linecolor\":\"white\",\"ticks\":\"\",\"title\":{\"standoff\":15},\"zerolinecolor\":\"white\",\"zerolinewidth\":2},\"yaxis\":{\"automargin\":true,\"gridcolor\":\"white\",\"linecolor\":\"white\",\"ticks\":\"\",\"title\":{\"standoff\":15},\"zerolinecolor\":\"white\",\"zerolinewidth\":2}}},\"xaxis\":{\"anchor\":\"y\",\"domain\":[0.0,1.0],\"title\":{\"text\":\"Segment\"}},\"yaxis\":{\"anchor\":\"x\",\"domain\":[0.0,1.0],\"title\":{\"text\":\"Count\"}},\"legend\":{\"title\":{\"text\":\"color\"},\"tracegroupgap\":0},\"title\":{\"text\":\"RFM Segments\",\"font\":{\"size\":20,\"family\":\"Arial\"}},\"barmode\":\"relative\",\"font\":{\"size\":15,\"family\":\"Arial\"}},                        {\"responsive\": true}                    ).then(function(){\n",
       "                            \n",
       "var gd = document.getElementById('3433f68e-ca29-4e05-8d1b-34e59e470899');\n",
       "var x = new MutationObserver(function (mutations, observer) {{\n",
       "        var display = window.getComputedStyle(gd).display;\n",
       "        if (!display || display === 'none') {{\n",
       "            console.log([gd, 'removed!']);\n",
       "            Plotly.purge(gd);\n",
       "            observer.disconnect();\n",
       "        }}\n",
       "}});\n",
       "\n",
       "// Listen for the removal of the full notebook cells\n",
       "var notebookContainer = gd.closest('#notebook-container');\n",
       "if (notebookContainer) {{\n",
       "    x.observe(notebookContainer, {childList: true});\n",
       "}}\n",
       "\n",
       "// Listen for the clearing of the current output cell\n",
       "var outputEl = gd.closest('.output');\n",
       "if (outputEl) {{\n",
       "    x.observe(outputEl, {childList: true});\n",
       "}}\n",
       "\n",
       "                        })                };                });            </script>        </div>"
      ]
     },
     "metadata": {},
     "output_type": "display_data"
    }
   ],
   "source": [
    "# Obtenez les 10 produits les plus préférés\n",
    "segments = df_rfm['segment'].value_counts()\n",
    "\n",
    "# Bar plot\n",
    "fig = px.bar(x=segments.index,\n",
    "             y=segments.values,\n",
    "             color=segments.index,\n",
    "             text=segments.values,\n",
    "             title=\"RFM Segments\",\n",
    "             labels={'x': 'Product', 'y': 'Count'})\n",
    "\n",
    "# Mettre à jour la mise en page pour une meilleure apparence\n",
    "fig.update_layout(\n",
    "    xaxis_title=\"Segment\",\n",
    "    yaxis_title=\"Count\",\n",
    "    font=dict(size=15, family=\"Arial\"),\n",
    "    title_font=dict(size=20, family=\"Arial\")\n",
    ")"
   ]
  },
  {
   "cell_type": "code",
   "execution_count": 26,
   "id": "f15a2623",
   "metadata": {},
   "outputs": [
    {
     "data": {
      "image/png": "[encoded data removed]",
      "text/plain": [
       "<Figure size 720x576 with 1 Axes>"
      ]
     },
     "metadata": {},
     "output_type": "display_data"
    }
   ],
   "source": [
    "plt.figure(figsize = (10, 8), )\n",
    "explode = (0.1, 0, 0, 0, 0, 0, 0, 0, 0, 0)\n",
    "\n",
    "segments.plot(kind = 'pie',\n",
    "            explode = explode,\n",
    "            autopct = '%1.2f%%')\n",
    "plt.axis('equal')\n",
    "plt.legend(labels = segments.index, loc = \"best\")\n",
    "plt.show()"
   ]
  },
  {
   "cell_type": "code",
   "execution_count": 367,
   "id": "5aecb133",
   "metadata": {},
   "outputs": [
    {
     "data": {
      "text/html": [
       "<div>\n",
       "<style scoped>\n",
       "    .dataframe tbody tr th:only-of-type {\n",
       "        vertical-align: middle;\n",
       "    }\n",
       "\n",
       "    .dataframe tbody tr th {\n",
       "        vertical-align: top;\n",
       "    }\n",
       "\n",
       "    .dataframe thead tr th {\n",
       "        text-align: left;\n",
       "    }\n",
       "\n",
       "    .dataframe thead tr:last-of-type th {\n",
       "        text-align: right;\n",
       "    }\n",
       "</style>\n",
       "<table border=\"1\" class=\"dataframe\">\n",
       "  <thead>\n",
       "    <tr>\n",
       "      <th></th>\n",
       "      <th colspan=\"2\" halign=\"left\">recency</th>\n",
       "      <th colspan=\"2\" halign=\"left\">frequency</th>\n",
       "      <th colspan=\"2\" halign=\"left\">monetary_value</th>\n",
       "    </tr>\n",
       "    <tr>\n",
       "      <th></th>\n",
       "      <th>mean</th>\n",
       "      <th>count</th>\n",
       "      <th>mean</th>\n",
       "      <th>count</th>\n",
       "      <th>mean</th>\n",
       "      <th>count</th>\n",
       "    </tr>\n",
       "    <tr>\n",
       "      <th>segment</th>\n",
       "      <th></th>\n",
       "      <th></th>\n",
       "      <th></th>\n",
       "      <th></th>\n",
       "      <th></th>\n",
       "      <th></th>\n",
       "    </tr>\n",
       "  </thead>\n",
       "  <tbody>\n",
       "    <tr>\n",
       "      <th>Clients_presque_perdus</th>\n",
       "      <td>400.325964</td>\n",
       "      <td>6016</td>\n",
       "      <td>1.000000</td>\n",
       "      <td>6016</td>\n",
       "      <td>161.987035</td>\n",
       "      <td>6016</td>\n",
       "    </tr>\n",
       "    <tr>\n",
       "      <th>champions</th>\n",
       "      <td>48.575677</td>\n",
       "      <td>2993</td>\n",
       "      <td>1.641831</td>\n",
       "      <td>2993</td>\n",
       "      <td>363.060418</td>\n",
       "      <td>2993</td>\n",
       "    </tr>\n",
       "    <tr>\n",
       "      <th>clients_fidèls</th>\n",
       "      <td>48.545095</td>\n",
       "      <td>1519</td>\n",
       "      <td>1.000000</td>\n",
       "      <td>1519</td>\n",
       "      <td>161.661600</td>\n",
       "      <td>1519</td>\n",
       "    </tr>\n",
       "    <tr>\n",
       "      <th>clients_perdus</th>\n",
       "      <td>401.289349</td>\n",
       "      <td>5896</td>\n",
       "      <td>1.000000</td>\n",
       "      <td>5896</td>\n",
       "      <td>158.029042</td>\n",
       "      <td>5896</td>\n",
       "    </tr>\n",
       "    <tr>\n",
       "      <th>clients_promoteurs</th>\n",
       "      <td>181.646307</td>\n",
       "      <td>6025</td>\n",
       "      <td>1.657593</td>\n",
       "      <td>6025</td>\n",
       "      <td>345.973021</td>\n",
       "      <td>6025</td>\n",
       "    </tr>\n",
       "    <tr>\n",
       "      <th>clients_risqués</th>\n",
       "      <td>224.459339</td>\n",
       "      <td>1574</td>\n",
       "      <td>1.000000</td>\n",
       "      <td>1574</td>\n",
       "      <td>139.963139</td>\n",
       "      <td>1574</td>\n",
       "    </tr>\n",
       "    <tr>\n",
       "      <th>clients_à_pas_perdre</th>\n",
       "      <td>223.944272</td>\n",
       "      <td>2907</td>\n",
       "      <td>1.000000</td>\n",
       "      <td>2907</td>\n",
       "      <td>156.161968</td>\n",
       "      <td>2907</td>\n",
       "    </tr>\n",
       "    <tr>\n",
       "      <th>clients_à_réactiver</th>\n",
       "      <td>395.958472</td>\n",
       "      <td>3010</td>\n",
       "      <td>2.329900</td>\n",
       "      <td>3010</td>\n",
       "      <td>536.412000</td>\n",
       "      <td>3010</td>\n",
       "    </tr>\n",
       "    <tr>\n",
       "      <th>clients_à_surveiller</th>\n",
       "      <td>93.618803</td>\n",
       "      <td>6031</td>\n",
       "      <td>1.000000</td>\n",
       "      <td>6031</td>\n",
       "      <td>165.221512</td>\n",
       "      <td>6031</td>\n",
       "    </tr>\n",
       "    <tr>\n",
       "      <th>nouveux_clients</th>\n",
       "      <td>140.889987</td>\n",
       "      <td>1518</td>\n",
       "      <td>1.000000</td>\n",
       "      <td>1518</td>\n",
       "      <td>162.072971</td>\n",
       "      <td>1518</td>\n",
       "    </tr>\n",
       "  </tbody>\n",
       "</table>\n",
       "</div>"
      ],
      "text/plain": [
       "                           recency       frequency       monetary_value      \n",
       "                              mean count      mean count           mean count\n",
       "segment                                                                      \n",
       "Clients_presque_perdus  400.325964  6016  1.000000  6016     161.987035  6016\n",
       "champions                48.575677  2993  1.641831  2993     363.060418  2993\n",
       "clients_fidèls           48.545095  1519  1.000000  1519     161.661600  1519\n",
       "clients_perdus          401.289349  5896  1.000000  5896     158.029042  5896\n",
       "clients_promoteurs      181.646307  6025  1.657593  6025     345.973021  6025\n",
       "clients_risqués         224.459339  1574  1.000000  1574     139.963139  1574\n",
       "clients_à_pas_perdre    223.944272  2907  1.000000  2907     156.161968  2907\n",
       "clients_à_réactiver     395.958472  3010  2.329900  3010     536.412000  3010\n",
       "clients_à_surveiller     93.618803  6031  1.000000  6031     165.221512  6031\n",
       "nouveux_clients         140.889987  1518  1.000000  1518     162.072971  1518"
      ]
     },
     "execution_count": 367,
     "metadata": {},
     "output_type": "execute_result"
    }
   ],
   "source": [
    "df_rfm[[\"segment\",\"recency\", \"frequency\", \"monetary_value\"]].groupby(\"segment\").agg([\"mean\", \"count\"])"
   ]
  },
  {
   "cell_type": "markdown",
   "id": "e80d438d",
   "metadata": {},
   "source": [
    "## Évaluons les résultats de la segmentation RFM"
   ]
  },
  {
   "cell_type": "markdown",
   "id": "f83cae20",
   "metadata": {},
   "source": [
    "Nous avons segmenté la clientèle en fonction de la récence, de la fréquence et de la valeur monétaire, ce qui indique une approche stratégique pour comprendre et gérer les relations clients.\n",
    "Nous pouvons identifier la particularité de nous différents clients en fonction d leurs comportements d'achats sur chaque segment.\n",
    "Analysons par exemple le segment \"clients_à_réactiver\", se distingue comme ayant la valeur monétaire totale la plus élevée (536.412000$), ce qui indique qu'une partie importante des revenus de l'entreprise provient des clients de ce segment. \n",
    "Cependant, il est important de noter que le segment \"clients_à_réactiver\" présente également la récence moyenne très élevée (395.958472 jours), ce qui suggère une baisse potentielle de l'engagement ou de la fidélité de ces clients.\n",
    "On quand même affirmer que le e succès de l’entreprise à générer des revenus à partir de ce segment démontre sa capacité à capitaliser sur les relations clients existantes et à générer des ventes.\n",
    "\n",
    "En somme nous pouvons dire qu'il est très appréciable de voir une entreprise générer des revenus et mettre en place une approche structurée de la clientèle, mais ils est obligatoire pour toute entreprise souciée de maximiser et garantir ses actifs, d'avoir une capacité d'engager et à fidéliser efficacement les clients dans tous les segments car son succès peut être mesuré non seulement par la génération de revenus, mais également par des facteurs tels que la satisfaction client, les taux de fidélisation et la valeur client à long terme."
   ]
  },
  {
   "cell_type": "markdown",
   "id": "14140cfe",
   "metadata": {},
   "source": [
    "## SEGMENTATION PAR K-MEANS"
   ]
  },
  {
   "cell_type": "markdown",
   "id": "589c4704",
   "metadata": {},
   "source": [
    "### Construction d'une base à partir des variables de RFM"
   ]
  },
  {
   "cell_type": "code",
   "execution_count": 48,
   "id": "b0076ace",
   "metadata": {},
   "outputs": [
    {
     "data": {
      "text/plain": [
       "9886"
      ]
     },
     "execution_count": 48,
     "metadata": {},
     "output_type": "execute_result"
    }
   ],
   "source": [
    "df1= df_rfm[[\"recency\", \"frequency\", \"monetary_value\"]]\n",
    "\n",
    "df2 = df_clean[[\"customer_unique_id\", \"review_score\", \"payment_installments\", \"review_comment_message\"]]\n",
    "\n",
    "df_kmean = df1.merge(df2, on = \"customer_unique_id\")\n",
    "\n",
    "df_kmean.duplicated([\"customer_unique_id\"]).sum()"
   ]
  },
  {
   "cell_type": "code",
   "execution_count": 49,
   "id": "69e84b18",
   "metadata": {},
   "outputs": [],
   "source": [
    "df_kmean= df_kmean.drop_duplicates([\"customer_unique_id\"])"
   ]
  },
  {
   "cell_type": "code",
   "execution_count": 50,
   "id": "4b574a32",
   "metadata": {},
   "outputs": [
    {
     "data": {
      "text/plain": [
       "0"
      ]
     },
     "execution_count": 50,
     "metadata": {},
     "output_type": "execute_result"
    }
   ],
   "source": [
    "df_kmean.duplicated([\"customer_unique_id\"]).sum()"
   ]
  },
  {
   "cell_type": "code",
   "execution_count": 51,
   "id": "73819014",
   "metadata": {},
   "outputs": [
    {
     "data": {
      "text/html": [
       "<div>\n",
       "<style scoped>\n",
       "    .dataframe tbody tr th:only-of-type {\n",
       "        vertical-align: middle;\n",
       "    }\n",
       "\n",
       "    .dataframe tbody tr th {\n",
       "        vertical-align: top;\n",
       "    }\n",
       "\n",
       "    .dataframe thead th {\n",
       "        text-align: right;\n",
       "    }\n",
       "</style>\n",
       "<table border=\"1\" class=\"dataframe\">\n",
       "  <thead>\n",
       "    <tr style=\"text-align: right;\">\n",
       "      <th></th>\n",
       "      <th>customer_unique_id</th>\n",
       "      <th>recency</th>\n",
       "      <th>frequency</th>\n",
       "      <th>monetary_value</th>\n",
       "      <th>review_score</th>\n",
       "      <th>payment_installments</th>\n",
       "      <th>review_comment_message</th>\n",
       "    </tr>\n",
       "  </thead>\n",
       "  <tbody>\n",
       "    <tr>\n",
       "      <th>0</th>\n",
       "      <td>0000366f3b9a7992bf8c76cfdf3221e2</td>\n",
       "      <td>111</td>\n",
       "      <td>1</td>\n",
       "      <td>141.90</td>\n",
       "      <td>5</td>\n",
       "      <td>8</td>\n",
       "      <td>Adorei a cortina, ficou linda na minha sala, e...</td>\n",
       "    </tr>\n",
       "    <tr>\n",
       "      <th>1</th>\n",
       "      <td>0000f6ccb0745a6a4b88665a16c9f078</td>\n",
       "      <td>321</td>\n",
       "      <td>1</td>\n",
       "      <td>43.62</td>\n",
       "      <td>4</td>\n",
       "      <td>4</td>\n",
       "      <td>Bom vendedor</td>\n",
       "    </tr>\n",
       "    <tr>\n",
       "      <th>2</th>\n",
       "      <td>00053a61a98854899e70ed204dd4bafe</td>\n",
       "      <td>182</td>\n",
       "      <td>2</td>\n",
       "      <td>838.36</td>\n",
       "      <td>1</td>\n",
       "      <td>3</td>\n",
       "      <td>Olá! Comprei dois potes de whey e chegou apena...</td>\n",
       "    </tr>\n",
       "    <tr>\n",
       "      <th>4</th>\n",
       "      <td>0005ef4cd20d2893f0d9fbd94d3c0d97</td>\n",
       "      <td>170</td>\n",
       "      <td>1</td>\n",
       "      <td>129.76</td>\n",
       "      <td>1</td>\n",
       "      <td>4</td>\n",
       "      <td>Até o presente momento não recebi o produto e ...</td>\n",
       "    </tr>\n",
       "    <tr>\n",
       "      <th>5</th>\n",
       "      <td>0006fdc98a402fceb4eb0ee528f6a8d4</td>\n",
       "      <td>407</td>\n",
       "      <td>1</td>\n",
       "      <td>29.00</td>\n",
       "      <td>3</td>\n",
       "      <td>2</td>\n",
       "      <td>só achei que a altura da saia poderia ser maior</td>\n",
       "    </tr>\n",
       "  </tbody>\n",
       "</table>\n",
       "</div>"
      ],
      "text/plain": [
       "                 customer_unique_id  recency  frequency  monetary_value  \\\n",
       "0  0000366f3b9a7992bf8c76cfdf3221e2      111          1          141.90   \n",
       "1  0000f6ccb0745a6a4b88665a16c9f078      321          1           43.62   \n",
       "2  00053a61a98854899e70ed204dd4bafe      182          2          838.36   \n",
       "4  0005ef4cd20d2893f0d9fbd94d3c0d97      170          1          129.76   \n",
       "5  0006fdc98a402fceb4eb0ee528f6a8d4      407          1           29.00   \n",
       "\n",
       "   review_score  payment_installments  \\\n",
       "0             5                     8   \n",
       "1             4                     4   \n",
       "2             1                     3   \n",
       "4             1                     4   \n",
       "5             3                     2   \n",
       "\n",
       "                              review_comment_message  \n",
       "0  Adorei a cortina, ficou linda na minha sala, e...  \n",
       "1                                       Bom vendedor  \n",
       "2  Olá! Comprei dois potes de whey e chegou apena...  \n",
       "4  Até o presente momento não recebi o produto e ...  \n",
       "5    só achei que a altura da saia poderia ser maior  "
      ]
     },
     "execution_count": 51,
     "metadata": {},
     "output_type": "execute_result"
    }
   ],
   "source": [
    "df_kmean= df_kmean.drop_duplicates([\"customer_unique_id\"])\n",
    "df_kmean.head()"
   ]
  },
  {
   "cell_type": "markdown",
   "id": "aa2a21e4",
   "metadata": {},
   "source": [
    "## Selection des variables pour la segmentation par kmeans"
   ]
  },
  {
   "cell_type": "code",
   "execution_count": 52,
   "id": "afa77b8f",
   "metadata": {},
   "outputs": [],
   "source": [
    "df_kmeans= df_kmean[[\"customer_unique_id\", \"recency\", \"frequency\", \"monetary_value\",\"review_score\", \"payment_installments\"]] "
   ]
  },
  {
   "cell_type": "markdown",
   "id": "3f577e17",
   "metadata": {},
   "source": [
    "## Normalisation des données"
   ]
  },
  {
   "cell_type": "code",
   "execution_count": 53,
   "id": "17a16aca",
   "metadata": {},
   "outputs": [
    {
     "data": {
      "text/plain": [
       "['recency',\n",
       " 'frequency',\n",
       " 'monetary_value',\n",
       " 'review_score',\n",
       " 'payment_installments']"
      ]
     },
     "execution_count": 53,
     "metadata": {},
     "output_type": "execute_result"
    }
   ],
   "source": [
    "numerical_features = list(df_kmeans.select_dtypes(include=\"number\").columns)\n",
    "numerical_features"
   ]
  },
  {
   "cell_type": "code",
   "execution_count": 54,
   "id": "f5736af9",
   "metadata": {},
   "outputs": [],
   "source": [
    "scaler = MinMaxScaler()\n",
    "\n",
    "preprocessor = ColumnTransformer([\n",
    "    ('scaler', scaler, numerical_features)])"
   ]
  },
  {
   "cell_type": "markdown",
   "id": "70f7c073",
   "metadata": {},
   "source": [
    "## Sélection du nombre de clusters"
   ]
  },
  {
   "cell_type": "code",
   "execution_count": 55,
   "id": "d8c7afc8",
   "metadata": {},
   "outputs": [
    {
     "data": {
      "image/png": "[encoded data removed]",
      "text/plain": [
       "<Figure size 576x396 with 2 Axes>"
      ]
     },
     "metadata": {},
     "output_type": "display_data"
    },
    {
     "data": {
      "text/plain": [
       "<AxesSubplot:title={'center':'Distortion Score Elbow for KMeans Clustering'}, xlabel='k', ylabel='distortion score'>"
      ]
     },
     "execution_count": 55,
     "metadata": {},
     "output_type": "execute_result"
    }
   ],
   "source": [
    "X = df_kmeans.copy()\n",
    "# Méthode du coude\n",
    "kmeans_visualizer = Pipeline([\n",
    "    (\"preprocessor\", preprocessor),\n",
    "    (\"kelbowvisualizer\", KElbowVisualizer(KMeans(),K=(4,12)))])\n",
    "kmeans_visualizer.fit(X)\n",
    "kmeans_visualizer.named_steps['kelbowvisualizer'].show()"
   ]
  },
  {
   "cell_type": "markdown",
   "id": "dda411aa",
   "metadata": {},
   "source": [
    "## Distances intercluster"
   ]
  },
  {
   "cell_type": "code",
   "execution_count": 56,
   "id": "2ddec51e",
   "metadata": {},
   "outputs": [
    {
     "data": {
      "image/png": "[encoded data removed]",
      "text/plain": [
       "<Figure size 576x396 with 2 Axes>"
      ]
     },
     "metadata": {},
     "output_type": "display_data"
    },
    {
     "data": {
      "text/plain": [
       "<AxesSubplot:title={'center':'KMeans Intercluster Distance Map (via MDS)'}, xlabel='PC2', ylabel='PC1'>"
      ]
     },
     "execution_count": 56,
     "metadata": {},
     "output_type": "execute_result"
    }
   ],
   "source": [
    "# Carte de distance intercluster avec le meilleur k\n",
    "k=4\n",
    "distance_visualizer = Pipeline([\n",
    "    (\"preprocessor\", preprocessor),\n",
    "    (\"distancevisualizer\", InterclusterDistance(KMeans(k)))])\n",
    "distance_visualizer.fit(X)\n",
    "distance_visualizer.named_steps['distancevisualizer'].show()\n"
   ]
  },
  {
   "cell_type": "markdown",
   "id": "18fdff8d",
   "metadata": {},
   "source": [
    "## Modèle KMens avec K optimal"
   ]
  },
  {
   "cell_type": "code",
   "execution_count": 57,
   "id": "4dedeb5a",
   "metadata": {},
   "outputs": [
    {
     "data": {
      "text/html": [
       "<div>\n",
       "<style scoped>\n",
       "    .dataframe tbody tr th:only-of-type {\n",
       "        vertical-align: middle;\n",
       "    }\n",
       "\n",
       "    .dataframe tbody tr th {\n",
       "        vertical-align: top;\n",
       "    }\n",
       "\n",
       "    .dataframe thead th {\n",
       "        text-align: right;\n",
       "    }\n",
       "</style>\n",
       "<table border=\"1\" class=\"dataframe\">\n",
       "  <thead>\n",
       "    <tr style=\"text-align: right;\">\n",
       "      <th></th>\n",
       "      <th>customer_unique_id</th>\n",
       "      <th>recency</th>\n",
       "      <th>frequency</th>\n",
       "      <th>monetary_value</th>\n",
       "      <th>review_score</th>\n",
       "      <th>payment_installments</th>\n",
       "      <th>kmeans_label</th>\n",
       "    </tr>\n",
       "  </thead>\n",
       "  <tbody>\n",
       "    <tr>\n",
       "      <th>0</th>\n",
       "      <td>0000366f3b9a7992bf8c76cfdf3221e2</td>\n",
       "      <td>111</td>\n",
       "      <td>1</td>\n",
       "      <td>141.90</td>\n",
       "      <td>5</td>\n",
       "      <td>8</td>\n",
       "      <td>1</td>\n",
       "    </tr>\n",
       "    <tr>\n",
       "      <th>1</th>\n",
       "      <td>0000f6ccb0745a6a4b88665a16c9f078</td>\n",
       "      <td>321</td>\n",
       "      <td>1</td>\n",
       "      <td>43.62</td>\n",
       "      <td>4</td>\n",
       "      <td>4</td>\n",
       "      <td>3</td>\n",
       "    </tr>\n",
       "    <tr>\n",
       "      <th>2</th>\n",
       "      <td>00053a61a98854899e70ed204dd4bafe</td>\n",
       "      <td>182</td>\n",
       "      <td>2</td>\n",
       "      <td>838.36</td>\n",
       "      <td>1</td>\n",
       "      <td>3</td>\n",
       "      <td>0</td>\n",
       "    </tr>\n",
       "    <tr>\n",
       "      <th>4</th>\n",
       "      <td>0005ef4cd20d2893f0d9fbd94d3c0d97</td>\n",
       "      <td>170</td>\n",
       "      <td>1</td>\n",
       "      <td>129.76</td>\n",
       "      <td>1</td>\n",
       "      <td>4</td>\n",
       "      <td>0</td>\n",
       "    </tr>\n",
       "    <tr>\n",
       "      <th>5</th>\n",
       "      <td>0006fdc98a402fceb4eb0ee528f6a8d4</td>\n",
       "      <td>407</td>\n",
       "      <td>1</td>\n",
       "      <td>29.00</td>\n",
       "      <td>3</td>\n",
       "      <td>2</td>\n",
       "      <td>3</td>\n",
       "    </tr>\n",
       "  </tbody>\n",
       "</table>\n",
       "</div>"
      ],
      "text/plain": [
       "                 customer_unique_id  recency  frequency  monetary_value  \\\n",
       "0  0000366f3b9a7992bf8c76cfdf3221e2      111          1          141.90   \n",
       "1  0000f6ccb0745a6a4b88665a16c9f078      321          1           43.62   \n",
       "2  00053a61a98854899e70ed204dd4bafe      182          2          838.36   \n",
       "4  0005ef4cd20d2893f0d9fbd94d3c0d97      170          1          129.76   \n",
       "5  0006fdc98a402fceb4eb0ee528f6a8d4      407          1           29.00   \n",
       "\n",
       "   review_score  payment_installments  kmeans_label  \n",
       "0             5                     8             1  \n",
       "1             4                     4             3  \n",
       "2             1                     3             0  \n",
       "4             1                     4             0  \n",
       "5             3                     2             3  "
      ]
     },
     "execution_count": 57,
     "metadata": {},
     "output_type": "execute_result"
    }
   ],
   "source": [
    "kmeans_model = Pipeline([(\"preprocessor\", preprocessor),\n",
    "                         (\"kmeans\", KMeans(4))])\n",
    "kmeans_model.fit(X)\n",
    "\n",
    "# Kmeans labels\n",
    "kmeans_labels = kmeans_model.named_steps['kmeans'].labels_\n",
    "df_kmeans[\"kmeans_label\"] = kmeans_labels\n",
    "df_kmeans.head()"
   ]
  },
  {
   "cell_type": "code",
   "execution_count": 58,
   "id": "13b911e4",
   "metadata": {},
   "outputs": [
    {
     "data": {
      "text/html": [
       "<div>\n",
       "<style scoped>\n",
       "    .dataframe tbody tr th:only-of-type {\n",
       "        vertical-align: middle;\n",
       "    }\n",
       "\n",
       "    .dataframe tbody tr th {\n",
       "        vertical-align: top;\n",
       "    }\n",
       "\n",
       "    .dataframe thead th {\n",
       "        text-align: right;\n",
       "    }\n",
       "</style>\n",
       "<table border=\"1\" class=\"dataframe\">\n",
       "  <thead>\n",
       "    <tr style=\"text-align: right;\">\n",
       "      <th></th>\n",
       "      <th>KM_size</th>\n",
       "    </tr>\n",
       "    <tr>\n",
       "      <th>kmeans_label</th>\n",
       "      <th></th>\n",
       "    </tr>\n",
       "  </thead>\n",
       "  <tbody>\n",
       "    <tr>\n",
       "      <th>0</th>\n",
       "      <td>8911</td>\n",
       "    </tr>\n",
       "    <tr>\n",
       "      <th>1</th>\n",
       "      <td>12409</td>\n",
       "    </tr>\n",
       "    <tr>\n",
       "      <th>2</th>\n",
       "      <td>9124</td>\n",
       "    </tr>\n",
       "    <tr>\n",
       "      <th>3</th>\n",
       "      <td>7045</td>\n",
       "    </tr>\n",
       "  </tbody>\n",
       "</table>\n",
       "</div>"
      ],
      "text/plain": [
       "              KM_size\n",
       "kmeans_label         \n",
       "0                8911\n",
       "1               12409\n",
       "2                9124\n",
       "3                7045"
      ]
     },
     "execution_count": 58,
     "metadata": {},
     "output_type": "execute_result"
    }
   ],
   "source": [
    "KM_clust_sizes = df_kmeans.groupby('kmeans_label').size().to_frame()\n",
    "KM_clust_sizes.columns = [\"KM_size\"]\n",
    "KM_clust_sizes"
   ]
  },
  {
   "cell_type": "markdown",
   "id": "edcf27fa",
   "metadata": {},
   "source": [
    "## Visualisation du nombre de clusters de k-means"
   ]
  },
  {
   "cell_type": "code",
   "execution_count": 59,
   "id": "dffb2595",
   "metadata": {},
   "outputs": [
    {
     "data": {
      "image/png": "[encoded data removed]",
      "text/plain": [
       "<Figure size 576x396 with 1 Axes>"
      ]
     },
     "metadata": {},
     "output_type": "display_data"
    }
   ],
   "source": [
    "sns.set()\n",
    "ax = sns.countplot(x=\"kmeans_label\", data=df_kmeans, color=\"#03C988\")\n",
    "for container in ax.containers:\n",
    "    ax.bar_label(container)\n",
    "\n",
    "_ = ax.set_title(\"Répartitions des observations par segment\")"
   ]
  },
  {
   "cell_type": "markdown",
   "id": "e315dd1d",
   "metadata": {},
   "source": [
    "## Analyse des moyennes de clusters"
   ]
  },
  {
   "cell_type": "code",
   "execution_count": 60,
   "id": "6624fa07",
   "metadata": {},
   "outputs": [
    {
     "data": {
      "text/html": [
       "<div>\n",
       "<style scoped>\n",
       "    .dataframe tbody tr th:only-of-type {\n",
       "        vertical-align: middle;\n",
       "    }\n",
       "\n",
       "    .dataframe tbody tr th {\n",
       "        vertical-align: top;\n",
       "    }\n",
       "\n",
       "    .dataframe thead tr th {\n",
       "        text-align: left;\n",
       "    }\n",
       "\n",
       "    .dataframe thead tr:last-of-type th {\n",
       "        text-align: right;\n",
       "    }\n",
       "</style>\n",
       "<table border=\"1\" class=\"dataframe\">\n",
       "  <thead>\n",
       "    <tr>\n",
       "      <th></th>\n",
       "      <th>recency</th>\n",
       "      <th>frequency</th>\n",
       "      <th>monetary_value</th>\n",
       "    </tr>\n",
       "    <tr>\n",
       "      <th></th>\n",
       "      <th>mean</th>\n",
       "      <th>mean</th>\n",
       "      <th>mean</th>\n",
       "    </tr>\n",
       "    <tr>\n",
       "      <th>kmeans_label</th>\n",
       "      <th></th>\n",
       "      <th></th>\n",
       "      <th></th>\n",
       "    </tr>\n",
       "  </thead>\n",
       "  <tbody>\n",
       "    <tr>\n",
       "      <th>0</th>\n",
       "      <td>235.399282</td>\n",
       "      <td>1.440691</td>\n",
       "      <td>336.053069</td>\n",
       "    </tr>\n",
       "    <tr>\n",
       "      <th>1</th>\n",
       "      <td>141.669595</td>\n",
       "      <td>1.180434</td>\n",
       "      <td>193.460573</td>\n",
       "    </tr>\n",
       "    <tr>\n",
       "      <th>2</th>\n",
       "      <td>427.167690</td>\n",
       "      <td>1.212078</td>\n",
       "      <td>207.569106</td>\n",
       "    </tr>\n",
       "    <tr>\n",
       "      <th>3</th>\n",
       "      <td>185.867424</td>\n",
       "      <td>1.253371</td>\n",
       "      <td>222.172528</td>\n",
       "    </tr>\n",
       "  </tbody>\n",
       "</table>\n",
       "</div>"
      ],
      "text/plain": [
       "                 recency frequency monetary_value\n",
       "                    mean      mean           mean\n",
       "kmeans_label                                     \n",
       "0             235.399282  1.440691     336.053069\n",
       "1             141.669595  1.180434     193.460573\n",
       "2             427.167690  1.212078     207.569106\n",
       "3             185.867424  1.253371     222.172528"
      ]
     },
     "execution_count": 60,
     "metadata": {},
     "output_type": "execute_result"
    }
   ],
   "source": [
    "data_segm_analysis = df_kmeans[[\"kmeans_label\",\"recency\", \"frequency\", \"monetary_value\"]].groupby(\"kmeans_label\").agg([\"mean\"])\n",
    "data_segm_analysis"
   ]
  },
  {
   "cell_type": "code",
   "execution_count": 61,
   "id": "7e2a5c3b",
   "metadata": {},
   "outputs": [
    {
     "data": {
      "text/html": [
       "<div>\n",
       "<style scoped>\n",
       "    .dataframe tbody tr th:only-of-type {\n",
       "        vertical-align: middle;\n",
       "    }\n",
       "\n",
       "    .dataframe tbody tr th {\n",
       "        vertical-align: top;\n",
       "    }\n",
       "\n",
       "    .dataframe thead tr th {\n",
       "        text-align: left;\n",
       "    }\n",
       "\n",
       "    .dataframe thead tr:last-of-type th {\n",
       "        text-align: right;\n",
       "    }\n",
       "</style>\n",
       "<table border=\"1\" class=\"dataframe\">\n",
       "  <thead>\n",
       "    <tr>\n",
       "      <th></th>\n",
       "      <th>recency</th>\n",
       "      <th>frequency</th>\n",
       "      <th>monetary_value</th>\n",
       "    </tr>\n",
       "    <tr>\n",
       "      <th></th>\n",
       "      <th>mean</th>\n",
       "      <th>mean</th>\n",
       "      <th>mean</th>\n",
       "    </tr>\n",
       "    <tr>\n",
       "      <th>kmeans_label</th>\n",
       "      <th></th>\n",
       "      <th></th>\n",
       "      <th></th>\n",
       "    </tr>\n",
       "  </thead>\n",
       "  <tbody>\n",
       "    <tr>\n",
       "      <th>clients_à_réactiver</th>\n",
       "      <td>235.399282</td>\n",
       "      <td>1.440691</td>\n",
       "      <td>336.053069</td>\n",
       "    </tr>\n",
       "    <tr>\n",
       "      <th>nouveaux_clients</th>\n",
       "      <td>141.669595</td>\n",
       "      <td>1.180434</td>\n",
       "      <td>193.460573</td>\n",
       "    </tr>\n",
       "    <tr>\n",
       "      <th>clients_perdus</th>\n",
       "      <td>427.167690</td>\n",
       "      <td>1.212078</td>\n",
       "      <td>207.569106</td>\n",
       "    </tr>\n",
       "    <tr>\n",
       "      <th>clients_promoteurs</th>\n",
       "      <td>185.867424</td>\n",
       "      <td>1.253371</td>\n",
       "      <td>222.172528</td>\n",
       "    </tr>\n",
       "  </tbody>\n",
       "</table>\n",
       "</div>"
      ],
      "text/plain": [
       "                        recency frequency monetary_value\n",
       "                           mean      mean           mean\n",
       "kmeans_label                                            \n",
       "clients_à_réactiver  235.399282  1.440691     336.053069\n",
       "nouveaux_clients     141.669595  1.180434     193.460573\n",
       "clients_perdus       427.167690  1.212078     207.569106\n",
       "clients_promoteurs   185.867424  1.253371     222.172528"
      ]
     },
     "execution_count": 61,
     "metadata": {},
     "output_type": "execute_result"
    }
   ],
   "source": [
    "data_segm_analysis.rename({0:'clients_à_réactiver', \n",
    "                         1:'nouveaux_clients', \n",
    "                         2: 'clients_perdus', \n",
    "                         3:'clients_promoteurs'})"
   ]
  },
  {
   "cell_type": "markdown",
   "id": "f4b5fce6",
   "metadata": {},
   "source": [
    "## SEGMENTATION PAR DBSCAN"
   ]
  },
  {
   "cell_type": "code",
   "execution_count": 62,
   "id": "c91d0f14",
   "metadata": {},
   "outputs": [],
   "source": [
    "from sklearn.neighbors import NearestNeighbors\n",
    "from kneebow.rotor import Rotor"
   ]
  },
  {
   "cell_type": "code",
   "execution_count": 63,
   "id": "8671ca40",
   "metadata": {},
   "outputs": [],
   "source": [
    "df_dbs=df_kmean[[\"recency\", \"frequency\", \"monetary_value\", \"payment_installments\", \"review_score\"]]"
   ]
  },
  {
   "cell_type": "code",
   "execution_count": 64,
   "id": "150791d2",
   "metadata": {},
   "outputs": [
    {
     "data": {
      "text/html": [
       "<div>\n",
       "<style scoped>\n",
       "    .dataframe tbody tr th:only-of-type {\n",
       "        vertical-align: middle;\n",
       "    }\n",
       "\n",
       "    .dataframe tbody tr th {\n",
       "        vertical-align: top;\n",
       "    }\n",
       "\n",
       "    .dataframe thead th {\n",
       "        text-align: right;\n",
       "    }\n",
       "</style>\n",
       "<table border=\"1\" class=\"dataframe\">\n",
       "  <thead>\n",
       "    <tr style=\"text-align: right;\">\n",
       "      <th></th>\n",
       "      <th>recency</th>\n",
       "      <th>frequency</th>\n",
       "      <th>monetary_value</th>\n",
       "      <th>payment_installments</th>\n",
       "      <th>review_score</th>\n",
       "    </tr>\n",
       "  </thead>\n",
       "  <tbody>\n",
       "    <tr>\n",
       "      <th>0</th>\n",
       "      <td>111</td>\n",
       "      <td>1</td>\n",
       "      <td>141.90</td>\n",
       "      <td>8</td>\n",
       "      <td>5</td>\n",
       "    </tr>\n",
       "    <tr>\n",
       "      <th>1</th>\n",
       "      <td>321</td>\n",
       "      <td>1</td>\n",
       "      <td>43.62</td>\n",
       "      <td>4</td>\n",
       "      <td>4</td>\n",
       "    </tr>\n",
       "    <tr>\n",
       "      <th>2</th>\n",
       "      <td>182</td>\n",
       "      <td>2</td>\n",
       "      <td>838.36</td>\n",
       "      <td>3</td>\n",
       "      <td>1</td>\n",
       "    </tr>\n",
       "    <tr>\n",
       "      <th>4</th>\n",
       "      <td>170</td>\n",
       "      <td>1</td>\n",
       "      <td>129.76</td>\n",
       "      <td>4</td>\n",
       "      <td>1</td>\n",
       "    </tr>\n",
       "    <tr>\n",
       "      <th>5</th>\n",
       "      <td>407</td>\n",
       "      <td>1</td>\n",
       "      <td>29.00</td>\n",
       "      <td>2</td>\n",
       "      <td>3</td>\n",
       "    </tr>\n",
       "  </tbody>\n",
       "</table>\n",
       "</div>"
      ],
      "text/plain": [
       "   recency  frequency  monetary_value  payment_installments  review_score\n",
       "0      111          1          141.90                     8             5\n",
       "1      321          1           43.62                     4             4\n",
       "2      182          2          838.36                     3             1\n",
       "4      170          1          129.76                     4             1\n",
       "5      407          1           29.00                     2             3"
      ]
     },
     "execution_count": 64,
     "metadata": {},
     "output_type": "execute_result"
    }
   ],
   "source": [
    "df_dbs.head()"
   ]
  },
  {
   "cell_type": "code",
   "execution_count": 65,
   "id": "df95bff6",
   "metadata": {},
   "outputs": [],
   "source": [
    "scaler = StandardScaler()\n",
    "df_dbs_scaled = scaler.fit_transform(df_dbs)"
   ]
  },
  {
   "cell_type": "code",
   "execution_count": 66,
   "id": "bad81801",
   "metadata": {},
   "outputs": [
    {
     "name": "stderr",
     "output_type": "stream",
     "text": [
      "/tmp/ipykernel_4328/959641675.py:5: SettingWithCopyWarning:\n",
      "\n",
      "\n",
      "A value is trying to be set on a copy of a slice from a DataFrame.\n",
      "Try using .loc[row_indexer,col_indexer] = value instead\n",
      "\n",
      "See the caveats in the documentation: https://pandas.pydata.org/pandas-docs/stable/user_guide/indexing.html#returning-a-view-versus-a-copy\n",
      "\n"
     ]
    }
   ],
   "source": [
    "dbs = DBSCAN()\n",
    "\n",
    "model = dbs.fit(df_dbs_scaled)\n",
    "\n",
    "df_dbs['Segments'] = model.fit_predict(df_dbs_scaled)"
   ]
  },
  {
   "cell_type": "code",
   "execution_count": null,
   "id": "c46a0750",
   "metadata": {},
   "outputs": [],
   "source": []
  },
  {
   "cell_type": "code",
   "execution_count": 67,
   "id": "9520abc1",
   "metadata": {},
   "outputs": [
    {
     "data": {
      "image/png": "[encoded data removed]",
      "text/plain": [
       "<Figure size 1080x576 with 1 Axes>"
      ]
     },
     "metadata": {},
     "output_type": "display_data"
    }
   ],
   "source": [
    "# Visualisation du nombre de clusters\n",
    "sns.set()\n",
    "plt.rcParams[\"figure.figsize\"] = (15, 8)\n",
    "ax = sns.countplot(x='Segments', data=df_dbs, color=\"#03C988\")\n",
    "for container in ax.containers:\n",
    "    ax.bar_label(container)\n",
    "_ = ax.set_title('Répartitions des observations par cluster')"
   ]
  },
  {
   "cell_type": "markdown",
   "id": "78ae4d24",
   "metadata": {},
   "source": [
    "On remarque un nombre important de segments ainsi qu'un manque de parité entre eux. Cela nécessite une réduction de nombre de segments. "
   ]
  },
  {
   "cell_type": "code",
   "execution_count": 71,
   "id": "f823fcf8",
   "metadata": {},
   "outputs": [],
   "source": [
    "# Score silhouette\n",
    "#print(f\"Le score silhoutte est {round(metrics.silhouette_score(df_dbs, df_dbs['Segments']), 3)}\")"
   ]
  },
  {
   "cell_type": "markdown",
   "id": "c2d1a610",
   "metadata": {},
   "source": [
    "## Recherche d'epsilon optimal"
   ]
  },
  {
   "cell_type": "code",
   "execution_count": 72,
   "id": "ee5c346f",
   "metadata": {},
   "outputs": [],
   "source": [
    "rfm_DBscan = df_dbs\n",
    "scaler = StandardScaler()\n",
    "rfm_DBscan_scaleed = scaler.fit_transform(rfm_DBscan)\n",
    "\n",
    "# Création d'un modèle K-neighbors avec 2 pour trouver le meilleur Epsilon\n",
    "neigh = NearestNeighbors(n_neighbors=2)\n",
    "nbrs = neigh.fit(rfm_DBscan_scaleed)\n",
    "\n",
    "# Pour chaque point, calcul la distance de ses voisins\n",
    "distances, indices = nbrs.kneighbors(rfm_DBscan_scaleed)"
   ]
  },
  {
   "cell_type": "code",
   "execution_count": 73,
   "id": "7517b4c7",
   "metadata": {},
   "outputs": [
    {
     "data": {
      "text/plain": [
       "Text(0, 0.5, 'Epsilon')"
      ]
     },
     "execution_count": 73,
     "metadata": {},
     "output_type": "execute_result"
    },
    {
     "data": {
      "image/png": "[encoded data removed]",
      "text/plain": [
       "<Figure size 576x576 with 1 Axes>"
      ]
     },
     "metadata": {},
     "output_type": "display_data"
    }
   ],
   "source": [
    "# Trie et affichage des résultats\n",
    "distances = np.sort(distances, axis=0)\n",
    "distances = distances[:, 1]\n",
    "\n",
    "plt.figure(figsize=(8, 8))\n",
    "plt.plot(distances)\n",
    "plt.xlabel('Nombre d''observations dans le dataset')\n",
    "plt.ylabel('Epsilon')"
   ]
  },
  {
   "cell_type": "markdown",
   "id": "b6201d05",
   "metadata": {},
   "source": [
    "## Création du modèle avec min_samples = 500 et eps=0,5"
   ]
  },
  {
   "cell_type": "code",
   "execution_count": 74,
   "id": "de9099c3",
   "metadata": {},
   "outputs": [
    {
     "name": "stderr",
     "output_type": "stream",
     "text": [
      "/tmp/ipykernel_4328/702121711.py:5: SettingWithCopyWarning:\n",
      "\n",
      "\n",
      "A value is trying to be set on a copy of a slice from a DataFrame.\n",
      "Try using .loc[row_indexer,col_indexer] = value instead\n",
      "\n",
      "See the caveats in the documentation: https://pandas.pydata.org/pandas-docs/stable/user_guide/indexing.html#returning-a-view-versus-a-copy\n",
      "\n"
     ]
    }
   ],
   "source": [
    "dbs_tuned = DBSCAN(min_samples=500, eps=0.5)\n",
    "\n",
    "model = dbs_tuned.fit(rfm_DBscan_scaleed)\n",
    "\n",
    "rfm_DBscan['Segments'] = model.fit_predict(rfm_DBscan_scaleed)"
   ]
  },
  {
   "cell_type": "code",
   "execution_count": 75,
   "id": "8edc830f",
   "metadata": {},
   "outputs": [],
   "source": [
    "labels = model.labels_"
   ]
  },
  {
   "cell_type": "code",
   "execution_count": 76,
   "id": "88c58f36",
   "metadata": {},
   "outputs": [
    {
     "data": {
      "text/plain": [
       "array([-1,  0,  1,  2,  3])"
      ]
     },
     "execution_count": 76,
     "metadata": {},
     "output_type": "execute_result"
    }
   ],
   "source": [
    "np.unique(labels)"
   ]
  },
  {
   "cell_type": "code",
   "execution_count": 77,
   "id": "5e9446bf",
   "metadata": {},
   "outputs": [
    {
     "data": {
      "text/html": [
       "<div>\n",
       "<style scoped>\n",
       "    .dataframe tbody tr th:only-of-type {\n",
       "        vertical-align: middle;\n",
       "    }\n",
       "\n",
       "    .dataframe tbody tr th {\n",
       "        vertical-align: top;\n",
       "    }\n",
       "\n",
       "    .dataframe thead th {\n",
       "        text-align: right;\n",
       "    }\n",
       "</style>\n",
       "<table border=\"1\" class=\"dataframe\">\n",
       "  <thead>\n",
       "    <tr style=\"text-align: right;\">\n",
       "      <th></th>\n",
       "      <th>recency</th>\n",
       "      <th>frequency</th>\n",
       "      <th>monetary_value</th>\n",
       "      <th>payment_installments</th>\n",
       "      <th>review_score</th>\n",
       "    </tr>\n",
       "    <tr>\n",
       "      <th>Segments</th>\n",
       "      <th></th>\n",
       "      <th></th>\n",
       "      <th></th>\n",
       "      <th></th>\n",
       "      <th></th>\n",
       "    </tr>\n",
       "  </thead>\n",
       "  <tbody>\n",
       "    <tr>\n",
       "      <th>-1</th>\n",
       "      <td>268.725760</td>\n",
       "      <td>1.645048</td>\n",
       "      <td>410.114762</td>\n",
       "      <td>4.692679</td>\n",
       "      <td>3.201683</td>\n",
       "    </tr>\n",
       "    <tr>\n",
       "      <th>0</th>\n",
       "      <td>234.890103</td>\n",
       "      <td>1.000000</td>\n",
       "      <td>118.363917</td>\n",
       "      <td>2.115601</td>\n",
       "      <td>5.000000</td>\n",
       "    </tr>\n",
       "    <tr>\n",
       "      <th>1</th>\n",
       "      <td>211.763505</td>\n",
       "      <td>1.000000</td>\n",
       "      <td>107.048671</td>\n",
       "      <td>1.487751</td>\n",
       "      <td>4.000000</td>\n",
       "    </tr>\n",
       "    <tr>\n",
       "      <th>2</th>\n",
       "      <td>190.765596</td>\n",
       "      <td>1.000000</td>\n",
       "      <td>117.334256</td>\n",
       "      <td>1.648240</td>\n",
       "      <td>1.000000</td>\n",
       "    </tr>\n",
       "    <tr>\n",
       "      <th>3</th>\n",
       "      <td>196.842149</td>\n",
       "      <td>1.000000</td>\n",
       "      <td>105.711175</td>\n",
       "      <td>1.436608</td>\n",
       "      <td>3.000000</td>\n",
       "    </tr>\n",
       "  </tbody>\n",
       "</table>\n",
       "</div>"
      ],
      "text/plain": [
       "             recency  frequency  monetary_value  payment_installments  \\\n",
       "Segments                                                                \n",
       "-1        268.725760   1.645048      410.114762              4.692679   \n",
       " 0        234.890103   1.000000      118.363917              2.115601   \n",
       " 1        211.763505   1.000000      107.048671              1.487751   \n",
       " 2        190.765596   1.000000      117.334256              1.648240   \n",
       " 3        196.842149   1.000000      105.711175              1.436608   \n",
       "\n",
       "          review_score  \n",
       "Segments                \n",
       "-1            3.201683  \n",
       " 0            5.000000  \n",
       " 1            4.000000  \n",
       " 2            1.000000  \n",
       " 3            3.000000  "
      ]
     },
     "execution_count": 77,
     "metadata": {},
     "output_type": "execute_result"
    }
   ],
   "source": [
    "df_segm_analysis = rfm_DBscan.groupby(['Segments']).mean() \n",
    "df_segm_analysis.head()"
   ]
  },
  {
   "cell_type": "code",
   "execution_count": 78,
   "id": "a0f29424",
   "metadata": {},
   "outputs": [
    {
     "data": {
      "text/html": [
       "<div>\n",
       "<style scoped>\n",
       "    .dataframe tbody tr th:only-of-type {\n",
       "        vertical-align: middle;\n",
       "    }\n",
       "\n",
       "    .dataframe tbody tr th {\n",
       "        vertical-align: top;\n",
       "    }\n",
       "\n",
       "    .dataframe thead th {\n",
       "        text-align: right;\n",
       "    }\n",
       "</style>\n",
       "<table border=\"1\" class=\"dataframe\">\n",
       "  <thead>\n",
       "    <tr style=\"text-align: right;\">\n",
       "      <th></th>\n",
       "      <th>DBSCAN_size</th>\n",
       "    </tr>\n",
       "    <tr>\n",
       "      <th>Segments</th>\n",
       "      <th></th>\n",
       "    </tr>\n",
       "  </thead>\n",
       "  <tbody>\n",
       "    <tr>\n",
       "      <th>-1</th>\n",
       "      <td>15326</td>\n",
       "    </tr>\n",
       "    <tr>\n",
       "      <th>0</th>\n",
       "      <td>14550</td>\n",
       "    </tr>\n",
       "    <tr>\n",
       "      <th>1</th>\n",
       "      <td>3184</td>\n",
       "    </tr>\n",
       "    <tr>\n",
       "      <th>2</th>\n",
       "      <td>3238</td>\n",
       "    </tr>\n",
       "    <tr>\n",
       "      <th>3</th>\n",
       "      <td>1191</td>\n",
       "    </tr>\n",
       "  </tbody>\n",
       "</table>\n",
       "</div>"
      ],
      "text/plain": [
       "          DBSCAN_size\n",
       "Segments             \n",
       "-1              15326\n",
       " 0              14550\n",
       " 1               3184\n",
       " 2               3238\n",
       " 3               1191"
      ]
     },
     "execution_count": 78,
     "metadata": {},
     "output_type": "execute_result"
    }
   ],
   "source": [
    "DBSCAN_sizes = rfm_DBscan.groupby('Segments').size().to_frame()\n",
    "DBSCAN_sizes.columns = [\"DBSCAN_size\"]\n",
    "DBSCAN_sizes"
   ]
  },
  {
   "cell_type": "markdown",
   "id": "5abe509f",
   "metadata": {},
   "source": [
    "### Visualisation du nombre de clusters DBSCAN"
   ]
  },
  {
   "cell_type": "code",
   "execution_count": 79,
   "id": "fda58e00",
   "metadata": {},
   "outputs": [
    {
     "data": {
      "image/png": "[encoded data removed]",
      "text/plain": [
       "<Figure size 1080x576 with 1 Axes>"
      ]
     },
     "metadata": {},
     "output_type": "display_data"
    }
   ],
   "source": [
    "#Nombre de clients par segment\n",
    "sns.set()\n",
    "ax = sns.countplot(x=\"Segments\", data=rfm_DBscan, color=\"#03C988\")\n",
    "for container in ax.containers:\n",
    "    ax.bar_label(container)\n",
    "\n",
    "_ = ax.set_title(\"Répartitions des observations par segment\")"
   ]
  },
  {
   "cell_type": "markdown",
   "id": "f09f3bd0",
   "metadata": {},
   "source": [
    "## La grille illustrative de DBSCAN"
   ]
  },
  {
   "cell_type": "code",
   "execution_count": 81,
   "id": "71d790f9",
   "metadata": {},
   "outputs": [
    {
     "data": {
      "text/plain": [
       "<AxesSubplot:ylabel='Segments'>"
      ]
     },
     "execution_count": 81,
     "metadata": {},
     "output_type": "execute_result"
    },
    {
     "data": {
      "image/png": "[encoded data removed]",
      "text/plain": [
       "<Figure size 1500x1200 with 2 Axes>"
      ]
     },
     "metadata": {},
     "output_type": "display_data"
    }
   ],
   "source": [
    "plt.figure(figsize=(10, 8), dpi=150)\n",
    "sns.heatmap(df_segm_analysis, annot=True)\n"
   ]
  },
  {
   "cell_type": "markdown",
   "id": "0d0fedab",
   "metadata": {},
   "source": [
    "## Un peu de commentaire\n",
    "Segmentation par DBSCAN, nous donne 5 segments. Le premier segment (segment -1) nous indique la presence de 15326 valeurs abérantes. "
   ]
  },
  {
   "cell_type": "code",
   "execution_count": null,
   "id": "218b2aa9",
   "metadata": {},
   "outputs": [],
   "source": []
  }
 ],
 "metadata": {
  "kernelspec": {
   "display_name": "Python 3 (ipykernel)",
   "language": "python",
   "name": "python3"
  },
  "language_info": {
   "codemirror_mode": {
    "name": "ipython",
    "version": 3
   },
   "file_extension": ".py",
   "mimetype": "text/x-python",
   "name": "python",
   "nbconvert_exporter": "python",
   "pygments_lexer": "ipython3",
   "version": "3.9.12"
  }
 },
 "nbformat": 4,
 "nbformat_minor": 5
}
